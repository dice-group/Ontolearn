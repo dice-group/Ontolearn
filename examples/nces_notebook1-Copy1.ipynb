{
 "cells": [
  {
   "cell_type": "markdown",
   "id": "peripheral-mining",
   "metadata": {},
   "source": [
    "From the main directory \"Ontolearn\", run the commands for NCES data mentioned [here](https://ontolearn-docs-dice-group.netlify.app/usage/02_installation#download-external-files) to download pretrained models and datasets."
   ]
  },
  {
   "cell_type": "markdown",
   "id": "fleet-renaissance",
   "metadata": {},
   "source": [
    "## Inference with NCES"
   ]
  },
  {
   "cell_type": "code",
   "execution_count": 1,
   "id": "closing-aquarium",
   "metadata": {},
   "outputs": [
    {
     "name": "stderr",
     "output_type": "stream",
     "text": [
      "\n",
      "Warning: SQLite3 version 3.40.0 and 3.41.2 have huge performance regressions; please install version 3.41.1 or 3.42!\n",
      "\n",
      "/home/nkouagou/.conda/envs/onto/lib/python3.9/site-packages/tqdm/auto.py:21: TqdmWarning: IProgress not found. Please update jupyter and ipywidgets. See https://ipywidgets.readthedocs.io/en/stable/user_install.html\n",
      "  from .autonotebook import tqdm as notebook_tqdm\n"
     ]
    }
   ],
   "source": [
    "from ontolearn.concept_learner import NCES\n",
    "from ontolearn.knowledge_base import KnowledgeBase\n",
    "from ontolearn.metrics import F1\n",
    "from owlapy.parser import DLSyntaxParser"
   ]
  },
  {
   "cell_type": "code",
   "execution_count": 2,
   "id": "aware-convert",
   "metadata": {},
   "outputs": [
    {
     "name": "stdout",
     "output_type": "stream",
     "text": [
      "\n",
      "\n",
      " Loaded pretrained model! \n"
     ]
    }
   ],
   "source": [
    "nces = NCES(knowledge_base_path=\"../NCESData/family/family.owl\", quality_func=F1(), learner_name=\"SetTransformer\",\n",
    "     path_of_embeddings=\"../NCESData/family/embeddings/ConEx_entity_embeddings.csv\", load_pretrained=True, max_length=48, proj_dim=128, rnn_n_layers=2, drop_prob=0.1, num_heads=4, num_seeds=1, num_inds=32, pretrained_model_name=\"SetTransformer\")"
   ]
  },
  {
   "cell_type": "code",
   "execution_count": 3,
   "id": "forty-point",
   "metadata": {},
   "outputs": [],
   "source": [
    "KB = KnowledgeBase(path=nces.knowledge_base_path)"
   ]
  },
  {
   "cell_type": "code",
   "execution_count": 4,
   "id": "abstract-guinea",
   "metadata": {},
   "outputs": [],
   "source": [
    "dl_parser = DLSyntaxParser(nces.kb_namespace)"
   ]
  },
  {
   "cell_type": "markdown",
   "id": "finnish-special",
   "metadata": {},
   "source": [
    "### Let's learn the concept ``Father''"
   ]
  },
  {
   "cell_type": "code",
   "execution_count": 5,
   "id": "streaming-toolbox",
   "metadata": {},
   "outputs": [],
   "source": [
    "father = dl_parser.parse('Father')"
   ]
  },
  {
   "cell_type": "code",
   "execution_count": 6,
   "id": "nonprofit-polls",
   "metadata": {},
   "outputs": [],
   "source": [
    "not_father = dl_parser.parse('¬Father') # For negative examples"
   ]
  },
  {
   "cell_type": "code",
   "execution_count": 7,
   "id": "mediterranean-sustainability",
   "metadata": {},
   "outputs": [],
   "source": [
    "pos = set([ind.str.split(\"/\")[-1] for ind in KB.individuals(father)][:10])"
   ]
  },
  {
   "cell_type": "code",
   "execution_count": 8,
   "id": "three-traffic",
   "metadata": {},
   "outputs": [],
   "source": [
    "neg = set([ind.str.split(\"/\")[-1] for ind in KB.individuals(not_father)])"
   ]
  },
  {
   "cell_type": "markdown",
   "id": "english-mission",
   "metadata": {},
   "source": [
    "#### Prediction with SetTransformer"
   ]
  },
  {
   "cell_type": "code",
   "execution_count": 9,
   "id": "center-hypothetical",
   "metadata": {},
   "outputs": [
    {
     "name": "stdout",
     "output_type": "stream",
     "text": []
    }
   ],
   "source": [
    "node = nces.fit(pos, neg).best_hypotheses()"
   ]
  },
  {
   "cell_type": "code",
   "execution_count": 10,
   "id": "continued-scheme",
   "metadata": {},
   "outputs": [
    {
     "data": {
      "text/plain": [
       "<class 'ontolearn.search.NCESNode'> at 0xb7e165c\tFather ⊓ (∃ married.(Father ⊓ (∀ hasParent.(¬Sister))))\tQuality:0\tLength:10\t|Indv.|:0"
      ]
     },
     "execution_count": 10,
     "metadata": {},
     "output_type": "execute_result"
    }
   ],
   "source": [
    "node"
   ]
  },
  {
   "cell_type": "code",
   "execution_count": 10,
   "id": "appropriate-radio",
   "metadata": {},
   "outputs": [
    {
     "data": {
      "text/plain": [
       "False"
      ]
     },
     "execution_count": 10,
     "metadata": {},
     "output_type": "execute_result"
    }
   ],
   "source": [
    "nces.sorted_examples"
   ]
  },
  {
   "cell_type": "markdown",
   "id": "invisible-brooklyn",
   "metadata": {},
   "source": [
    "#### Prediction with GRU"
   ]
  },
  {
   "cell_type": "code",
   "execution_count": 11,
   "id": "close-springer",
   "metadata": {},
   "outputs": [
    {
     "name": "stdout",
     "output_type": "stream",
     "text": [
      "\n",
      "\n",
      " Loaded pretrained model! \n"
     ]
    }
   ],
   "source": [
    "nces.pretrained_model_name = 'GRU'\n",
    "nces.refresh()\n",
    "node = nces.fit(pos, neg).best_hypotheses()"
   ]
  },
  {
   "cell_type": "code",
   "execution_count": 12,
   "id": "technological-generator",
   "metadata": {},
   "outputs": [
    {
     "data": {
      "text/plain": [
       "<class 'ontolearn.search.NCESNode'> at 0xf897970\tFather ⊔ Daughter\tQuality:0.27778\tLength:3\t|Indv.|:112"
      ]
     },
     "execution_count": 12,
     "metadata": {},
     "output_type": "execute_result"
    }
   ],
   "source": [
    "node"
   ]
  },
  {
   "cell_type": "markdown",
   "id": "worst-consent",
   "metadata": {},
   "source": [
    "#### Prediction with LSTM"
   ]
  },
  {
   "cell_type": "code",
   "execution_count": 13,
   "id": "lovely-honduras",
   "metadata": {},
   "outputs": [
    {
     "name": "stdout",
     "output_type": "stream",
     "text": [
      "\n",
      "\n",
      " Loaded pretrained model! \n"
     ]
    }
   ],
   "source": [
    "nces.pretrained_model_name = 'LSTM'\n",
    "nces.refresh()\n",
    "node = nces.fit(pos, neg).best_hypotheses()"
   ]
  },
  {
   "cell_type": "code",
   "execution_count": 14,
   "id": "subjective-intelligence",
   "metadata": {},
   "outputs": [
    {
     "data": {
      "text/plain": [
       "<class 'ontolearn.search.NCESNode'> at 0xc8d04ac\tGrandfather ⊔ (∃ hasChild.(Female ⊓ (∃ married.(¬Parent))))\tQuality:0.48485\tLength:10\t|Indv.|:58"
      ]
     },
     "execution_count": 14,
     "metadata": {},
     "output_type": "execute_result"
    }
   ],
   "source": [
    "node"
   ]
  },
  {
   "cell_type": "markdown",
   "id": "breathing-pocket",
   "metadata": {},
   "source": [
    "#### Prediction with ensemble SetTransformer+GRU+LSTM"
   ]
  },
  {
   "cell_type": "code",
   "execution_count": 15,
   "id": "geographic-visitor",
   "metadata": {},
   "outputs": [
    {
     "name": "stdout",
     "output_type": "stream",
     "text": [
      "\n",
      "\n",
      " Loaded pretrained model! \n",
      "\n",
      "\n",
      "\n",
      " Loaded pretrained model! \n",
      "\n",
      "\n",
      "\n",
      " Loaded pretrained model! \n"
     ]
    }
   ],
   "source": [
    "nces.pretrained_model_name = ['SetTransformer','GRU','LSTM']\n",
    "nces.refresh()\n",
    "node = nces.fit(pos, neg).best_hypotheses()"
   ]
  },
  {
   "cell_type": "code",
   "execution_count": 16,
   "id": "elementary-flush",
   "metadata": {},
   "outputs": [
    {
     "data": {
      "text/plain": [
       "<class 'ontolearn.search.NCESNode'> at 0xf8c4284\tFather ⊓ (∃ married.(Mother ⊓ (∃ hasParent.(¬Daughter))))\tQuality:0.75\tLength:10\t|Indv.|:25"
      ]
     },
     "execution_count": 16,
     "metadata": {},
     "output_type": "execute_result"
    }
   ],
   "source": [
    "node"
   ]
  },
  {
   "cell_type": "markdown",
   "id": "metric-kingdom",
   "metadata": {},
   "source": [
    "### Scalability of NCES (solving multiple learning problems in a go!)"
   ]
  },
  {
   "cell_type": "code",
   "execution_count": 17,
   "id": "contemporary-swift",
   "metadata": {},
   "outputs": [],
   "source": [
    "import json, time"
   ]
  },
  {
   "cell_type": "code",
   "execution_count": 18,
   "id": "conservative-appreciation",
   "metadata": {},
   "outputs": [],
   "source": [
    "with open(\"../NCESData/family/training_data/Data.json\") as file:\n",
    "    data = list(json.load(file).items())\n",
    "## The function below takes an iterable of tuples\n",
    "LPs = list(map(lambda x: (x[0], x[1][\"positive examples\"], x[1][\"negative examples\"]), data))"
   ]
  },
  {
   "cell_type": "code",
   "execution_count": 19,
   "id": "mental-radical",
   "metadata": {},
   "outputs": [],
   "source": [
    "## We solve 256 learning problems!\n",
    "lps = LPs[:256]"
   ]
  },
  {
   "cell_type": "code",
   "execution_count": 20,
   "id": "married-korean",
   "metadata": {},
   "outputs": [
    {
     "name": "stdout",
     "output_type": "stream",
     "text": [
      "\n",
      "\n",
      "\n",
      "Duration:  0.9786672592163086 seconds!\n"
     ]
    }
   ],
   "source": [
    "t0 = time.time()\n",
    "concepts = nces.fit_from_iterable(lps, verbose=False) ## Now predict with nces.fit_from_iterable.\n",
    "t1 = time.time()\n",
    "print(\"Duration: \", t1-t0, \"seconds!\")"
   ]
  },
  {
   "cell_type": "code",
   "execution_count": 21,
   "id": "funky-december",
   "metadata": {},
   "outputs": [
    {
     "name": "stdout",
     "output_type": "stream",
     "text": [
      "OWLClass(IRI('http://www.benchmark.org/family#','Sister'))\n"
     ]
    }
   ],
   "source": [
    "print(concepts[0])"
   ]
  },
  {
   "cell_type": "code",
   "execution_count": 20,
   "id": "trying-operation",
   "metadata": {},
   "outputs": [
    {
     "name": "stdout",
     "output_type": "stream",
     "text": [
      "256\n"
     ]
    }
   ],
   "source": [
    "print(len(concepts))"
   ]
  },
  {
   "cell_type": "markdown",
   "id": "fantastic-railway",
   "metadata": {},
   "source": [
    "### Change pretrained model name, e.g., use ensemble model prediction"
   ]
  },
  {
   "cell_type": "code",
   "execution_count": 21,
   "id": "conceptual-contact",
   "metadata": {},
   "outputs": [],
   "source": [
    "nces.pretrained_model_name = ['SetTransformer', 'GRU']"
   ]
  },
  {
   "cell_type": "code",
   "execution_count": 22,
   "id": "useful-compression",
   "metadata": {},
   "outputs": [
    {
     "data": {
      "text/plain": [
       "['SetTransformer', 'GRU']"
      ]
     },
     "execution_count": 22,
     "metadata": {},
     "output_type": "execute_result"
    }
   ],
   "source": [
    "nces.pretrained_model_name"
   ]
  },
  {
   "cell_type": "code",
   "execution_count": 23,
   "id": "certain-transcription",
   "metadata": {},
   "outputs": [
    {
     "name": "stdout",
     "output_type": "stream",
     "text": [
      "\n",
      "\n",
      " Loaded pretrained model! \n",
      "\n",
      "\n",
      "\n",
      " Loaded pretrained model! \n"
     ]
    }
   ],
   "source": [
    "nces.refresh()"
   ]
  },
  {
   "cell_type": "code",
   "execution_count": 24,
   "id": "double-administrator",
   "metadata": {},
   "outputs": [
    {
     "name": "stdout",
     "output_type": "stream",
     "text": [
      "Duration:  8.768116474151611 seconds!\n"
     ]
    }
   ],
   "source": [
    "t0 = time.time()\n",
    "concepts = nces.fit_from_iterable(lps, verbose=False)\n",
    "t1 = time.time()\n",
    "print(\"Duration: \", t1-t0, \"seconds!\")"
   ]
  },
  {
   "cell_type": "code",
   "execution_count": 25,
   "id": "little-spending",
   "metadata": {},
   "outputs": [
    {
     "data": {
      "text/plain": [
       "OWLObjectAllValuesFrom(property=OWLObjectProperty(IRI('http://www.benchmark.org/family#','married')),filler=OWLObjectComplementOf(OWLClass(IRI('http://www.benchmark.org/family#','PersonWithASibling'))))"
      ]
     },
     "execution_count": 25,
     "metadata": {},
     "output_type": "execute_result"
    }
   ],
   "source": [
    "concepts[-1]"
   ]
  },
  {
   "cell_type": "markdown",
   "id": "requested-trust",
   "metadata": {},
   "source": [
    "## Training NCES"
   ]
  },
  {
   "cell_type": "code",
   "execution_count": 26,
   "id": "quarterly-fairy",
   "metadata": {},
   "outputs": [],
   "source": [
    "import json, time\n",
    "with open(\"../NCESData/family/training_data/Data.json\") as file:\n",
    "    data = json.load(file) # Training data. Below we use the first 200 datapoints to train the synthesizer. You train on the full data, e.g. on GPU by remobing \"[:200]\""
   ]
  },
  {
   "cell_type": "code",
   "execution_count": 27,
   "id": "similar-employment",
   "metadata": {},
   "outputs": [],
   "source": [
    "from ontolearn.concept_learner import NCES"
   ]
  },
  {
   "cell_type": "code",
   "execution_count": 28,
   "id": "stable-terrorism",
   "metadata": {},
   "outputs": [],
   "source": [
    "nces = NCES(knowledge_base_path=\"../NCESData/family/family.owl\", learner_name=\"SetTransformer\",\n",
    "     path_of_embeddings=\"../NCESData/family/embeddings/ConEx_entity_embeddings.csv\", max_length=48, proj_dim=128, rnn_n_layers=2, drop_prob=0.1, num_heads=4, num_seeds=1, num_inds=32,\n",
    "            load_pretrained=False, pretrained_model_name=\"SetTransformer\")"
   ]
  },
  {
   "cell_type": "code",
   "execution_count": 29,
   "id": "duplicate-terminal",
   "metadata": {},
   "outputs": [
    {
     "name": "stdout",
     "output_type": "stream",
     "text": [
      "********************Trainable model size********************\n",
      "Synthesizer:  515296\n",
      "********************Trainable model size********************\n",
      "\n",
      "Training on CPU, it may take long...\n",
      "\n",
      "##################################################\n",
      "\n",
      "SetTransformer starts training... \n",
      "\n",
      "################################################## \n"
     ]
    },
    {
     "name": "stderr",
     "output_type": "stream",
     "text": [
      "Loss: 0.5712, Soft Acc: 74.01%, Hard Acc: 71.02%: 100%|██████████| 20/20 [01:12<00:00,  3.63s/it]"
     ]
    },
    {
     "name": "stdout",
     "output_type": "stream",
     "text": [
      "Top performance: loss: 0.5712, soft accuracy: 74.65% ... hard accuracy: 72.23%\n",
      "\n",
      "SetTransformer saved\n"
     ]
    },
    {
     "name": "stderr",
     "output_type": "stream",
     "text": [
      "\n"
     ]
    }
   ],
   "source": [
    "nces.train(list(data.items())[-200:], epochs=20, learning_rate=0.001, save_model=True, storage_path=f\"./NCES-{time.time()}/\")"
   ]
  },
  {
   "cell_type": "code",
   "execution_count": null,
   "id": "vital-navigation",
   "metadata": {},
   "outputs": [],
   "source": []
  },
  {
   "cell_type": "code",
   "execution_count": null,
   "id": "speaking-mobile",
   "metadata": {},
   "outputs": [],
   "source": []
  }
 ],
 "metadata": {
  "kernelspec": {
   "display_name": "onto",
   "language": "python",
   "name": "onto"
  },
  "language_info": {
   "codemirror_mode": {
    "name": "ipython",
    "version": 3
   },
   "file_extension": ".py",
   "mimetype": "text/x-python",
   "name": "python",
   "nbconvert_exporter": "python",
   "pygments_lexer": "ipython3",
   "version": "3.9.18"
  }
 },
 "nbformat": 4,
 "nbformat_minor": 5
}
