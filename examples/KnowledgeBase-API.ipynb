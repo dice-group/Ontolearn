{
 "cells": [
  {
   "cell_type": "code",
   "execution_count": 1,
   "metadata": {},
   "outputs": [
    {
     "name": "stderr",
     "output_type": "stream",
     "text": [
      "* Owlready2 * Warning: optimized Cython parser module 'owlready2_optimized' is not available, defaulting to slower Python implementation\n"
     ]
    },
    {
     "name": "stdout",
     "output_type": "stream",
     "text": [
      "Number of concepts: 20\n",
      "Number of individuals: 202\n",
      "Number of properties: 4\n"
     ]
    },
    {
     "data": {
      "text/plain": [
       "<ontolearn.base.KnowledgeBase at 0x7efd948ac9e8>"
      ]
     },
     "execution_count": 1,
     "metadata": {},
     "output_type": "execute_result"
    }
   ],
   "source": [
    "import json\n",
    "from ontolearn import KnowledgeBase\n",
    "with open('synthetic_problems.json') as json_file:\n",
    "    settings = json.load(json_file)\n",
    "\n",
    "kb = KnowledgeBase(path=settings['data_path'])\n",
    "kb"
   ]
  },
  {
   "cell_type": "markdown",
   "metadata": {},
   "source": [
    "# Concept Hierarchy"
   ]
  },
  {
   "cell_type": "markdown",
   "metadata": {},
   "source": [
    "### 1. Top down concept hierarchy"
   ]
  },
  {
   "cell_type": "code",
   "execution_count": 2,
   "metadata": {},
   "outputs": [
    {
     "name": "stdout",
     "output_type": "stream",
     "text": [
      "Thing\n",
      "\t\t Granddaughter\n",
      "\t\t Male\n",
      "\t\t Son\n",
      "\t\t Father\n",
      "\t\t Grandson\n",
      "\t\t Daughter\n",
      "\t\t Grandfather\n",
      "\t\t PersonWithASibling\n",
      "\t\t Parent\n",
      "\t\t Nothing\n",
      "\t\t Mother\n",
      "\t\t Female\n",
      "\t\t Grandparent\n",
      "\t\t Child\n",
      "\t\t Grandchild\n",
      "\t\t Brother\n",
      "\t\t Sister\n",
      "\t\t Grandmother\n",
      "\t\t Person\n",
      "Male\n",
      "\t\t Son\n",
      "\t\t Father\n",
      "\t\t Grandson\n",
      "\t\t Grandfather\n",
      "\t\t Brother\n",
      "PersonWithASibling\n",
      "\t\t Brother\n",
      "\t\t Sister\n",
      "Child\n",
      "\t\t Granddaughter\n",
      "\t\t Son\n",
      "\t\t Grandson\n",
      "\t\t Daughter\n",
      "\t\t Grandchild\n",
      "Person\n",
      "\t\t Granddaughter\n",
      "\t\t Male\n",
      "\t\t Son\n",
      "\t\t Father\n",
      "\t\t Grandson\n",
      "\t\t Daughter\n",
      "\t\t Grandfather\n",
      "\t\t PersonWithASibling\n",
      "\t\t Parent\n",
      "\t\t Mother\n",
      "\t\t Female\n",
      "\t\t Grandparent\n",
      "\t\t Child\n",
      "\t\t Grandchild\n",
      "\t\t Brother\n",
      "\t\t Sister\n",
      "\t\t Grandmother\n",
      "Female\n",
      "\t\t Granddaughter\n",
      "\t\t Daughter\n",
      "\t\t Mother\n",
      "\t\t Sister\n",
      "\t\t Grandmother\n",
      "Parent\n",
      "\t\t Father\n",
      "\t\t Grandfather\n",
      "\t\t Mother\n",
      "\t\t Grandparent\n",
      "\t\t Grandmother\n",
      "Grandchild\n",
      "\t\t Granddaughter\n",
      "\t\t Grandson\n",
      "Grandparent\n",
      "\t\t Grandfather\n",
      "\t\t Grandmother\n"
     ]
    }
   ],
   "source": [
    "for k,vv in kb.top_down_concept_hierarchy.items():\n",
    "    print(k.str) # string representation.\n",
    "    for v in vv:\n",
    "        print('\\t'*2,v.str)"
   ]
  },
  {
   "cell_type": "markdown",
   "metadata": {},
   "source": [
    "### 2. Top down direct concept hierarchy"
   ]
  },
  {
   "cell_type": "code",
   "execution_count": 3,
   "metadata": {},
   "outputs": [
    {
     "name": "stdout",
     "output_type": "stream",
     "text": [
      "Male\n",
      "\t\t Son\n",
      "\t\t Father\n",
      "\t\t Grandson\n",
      "\t\t Grandfather\n",
      "\t\t Brother\n",
      "PersonWithASibling\n",
      "\t\t Brother\n",
      "\t\t Sister\n",
      "Child\n",
      "\t\t Daughter\n",
      "\t\t Son\n",
      "\t\t Grandchild\n",
      "Person\n",
      "\t\t Male\n",
      "\t\t PersonWithASibling\n",
      "\t\t Parent\n",
      "\t\t Female\n",
      "\t\t Child\n",
      "Female\n",
      "\t\t Granddaughter\n",
      "\t\t Daughter\n",
      "\t\t Mother\n",
      "\t\t Sister\n",
      "\t\t Grandmother\n",
      "Parent\n",
      "\t\t Mother\n",
      "\t\t Father\n",
      "\t\t Grandparent\n",
      "Grandchild\n",
      "\t\t Granddaughter\n",
      "\t\t Grandson\n",
      "Grandparent\n",
      "\t\t Grandfather\n",
      "\t\t Grandmother\n",
      "Thing\n",
      "\t\t Person\n"
     ]
    }
   ],
   "source": [
    "for k,vv in kb.top_down_direct_concept_hierarchy.items():\n",
    "    print(k.str) # string representation.\n",
    "    for v in vv:\n",
    "        print('\\t'*2,v.str)"
   ]
  },
  {
   "cell_type": "markdown",
   "metadata": {},
   "source": [
    "### 3. Down Top direct concept hierarchy"
   ]
  },
  {
   "cell_type": "code",
   "execution_count": 4,
   "metadata": {
    "scrolled": false
   },
   "outputs": [
    {
     "name": "stdout",
     "output_type": "stream",
     "text": [
      "Brother\n",
      "\t\t Male\n",
      "\t\t PersonWithASibling\n",
      "Father\n",
      "\t\t Male\n",
      "\t\t Parent\n",
      "Grandfather\n",
      "\t\t Male\n",
      "\t\t Grandparent\n",
      "Grandson\n",
      "\t\t Male\n",
      "\t\t Grandchild\n",
      "Son\n",
      "\t\t Male\n",
      "\t\t Child\n",
      "Sister\n",
      "\t\t Female\n",
      "\t\t PersonWithASibling\n",
      "Daughter\n",
      "\t\t Female\n",
      "\t\t Child\n",
      "Grandchild\n",
      "\t\t Child\n",
      "Male\n",
      "\t\t Person\n",
      "PersonWithASibling\n",
      "\t\t Person\n",
      "Child\n",
      "\t\t Person\n",
      "Female\n",
      "\t\t Person\n",
      "Parent\n",
      "\t\t Person\n",
      "Granddaughter\n",
      "\t\t Female\n",
      "\t\t Grandchild\n",
      "Grandmother\n",
      "\t\t Female\n",
      "\t\t Grandparent\n",
      "Mother\n",
      "\t\t Female\n",
      "\t\t Parent\n",
      "Grandparent\n",
      "\t\t Parent\n",
      "Person\n",
      "\t\t Thing\n"
     ]
    }
   ],
   "source": [
    "for k,vv in kb.down_top_direct_concept_hierarchy.items():\n",
    "    print(k.str) # string representation.\n",
    "    for v in vv:\n",
    "        print('\\t'*2,v.str)"
   ]
  },
  {
   "cell_type": "markdown",
   "metadata": {},
   "source": [
    "# Storage"
   ]
  },
  {
   "cell_type": "code",
   "execution_count": 5,
   "metadata": {},
   "outputs": [
    {
     "data": {
      "text/plain": [
       "{'Brother': <ontolearn.concept.Concept at 0x7efd02d00b90>,\n",
       " 'Male': <ontolearn.concept.Concept at 0x7efd02d00c28>,\n",
       " 'PersonWithASibling': <ontolearn.concept.Concept at 0x7efd02d00cc0>,\n",
       " 'Child': <ontolearn.concept.Concept at 0x7efd02d00d58>,\n",
       " 'Person': <ontolearn.concept.Concept at 0x7efd02d00df0>,\n",
       " 'Daughter': <ontolearn.concept.Concept at 0x7efd02d00e88>,\n",
       " 'Female': <ontolearn.concept.Concept at 0x7efd02d00f20>,\n",
       " 'Father': <ontolearn.concept.Concept at 0x7efd02cb5048>,\n",
       " 'Parent': <ontolearn.concept.Concept at 0x7efd02cb50e0>,\n",
       " 'Grandchild': <ontolearn.concept.Concept at 0x7efd02cb5178>,\n",
       " 'Granddaughter': <ontolearn.concept.Concept at 0x7efd02cb5210>,\n",
       " 'Grandfather': <ontolearn.concept.Concept at 0x7efd02cb52a8>,\n",
       " 'Grandparent': <ontolearn.concept.Concept at 0x7efd02cb5340>,\n",
       " 'Grandmother': <ontolearn.concept.Concept at 0x7efd02cb53d8>,\n",
       " 'Grandson': <ontolearn.concept.Concept at 0x7efd02cb5470>,\n",
       " 'Mother': <ontolearn.concept.Concept at 0x7efd02cb5508>,\n",
       " 'Sister': <ontolearn.concept.Concept at 0x7efd02cb55a0>,\n",
       " 'Son': <ontolearn.concept.Concept at 0x7efd02cb5638>,\n",
       " 'Thing': <ontolearn.concept.Concept at 0x7efd02d00768>,\n",
       " 'Nothing': <ontolearn.concept.Concept at 0x7efd02d00af8>}"
      ]
     },
     "execution_count": 5,
     "metadata": {},
     "output_type": "execute_result"
    }
   ],
   "source": [
    "kb.concepts"
   ]
  },
  {
   "cell_type": "markdown",
   "metadata": {},
   "source": [
    "# Interpretation and Operations\n",
    "\n",
    "$$ \\top^I = \\Delta^I $$\n",
    "$$ \\bot^I = \\emptyset $$\n",
    "$$ (\\neg C)^I = \\Delta^I \\setminus C^I $$\n",
    "$$ (C \\sqcap D)^I = C^I \\cap D^I $$\n",
    "$$ (C \\sqcup D)^I = C^I \\cup D^I $$\n",
    "\n",
    "\n",
    "$$( \\forall R.C)^I = \\{ a \\in \\Delta^I | \\forall b. (a,b) \\in R^I \\implies b \\in C^I \\}$$\n",
    "\n",
    "\n",
    "$$( \\exists R.C)^I = \\{ a \\in \\Delta^I | \\exists b. (a,b) \\in R^I\\}$$\n"
   ]
  },
  {
   "cell_type": "markdown",
   "metadata": {},
   "source": [
    "### Negation"
   ]
  },
  {
   "cell_type": "code",
   "execution_count": 6,
   "metadata": {},
   "outputs": [],
   "source": [
    "brother=kb.concepts['Brother']\n",
    "not_brother=kb.negation(brother)\n",
    "\n",
    "assert len(brother.instances.intersection(not_brother.instances))==0"
   ]
  },
  {
   "cell_type": "markdown",
   "metadata": {},
   "source": [
    "### Disjunction - Union"
   ]
  },
  {
   "cell_type": "code",
   "execution_count": 7,
   "metadata": {},
   "outputs": [],
   "source": [
    "sister_OR_not_brother=kb.union(kb.concepts['Sister'],not_brother)\n",
    "\n",
    "assert sister_OR_not_brother.instances.issuperset(kb.concepts['Sister'].instances)\n",
    "assert sister_OR_not_brother.instances.issuperset(not_brother.instances)\n"
   ]
  },
  {
   "cell_type": "markdown",
   "metadata": {},
   "source": [
    "### Conjunction - Intersection"
   ]
  },
  {
   "cell_type": "code",
   "execution_count": 8,
   "metadata": {},
   "outputs": [],
   "source": [
    "brother_and_sister= kb.intersection(brother,kb.concepts['Sister'])\n",
    "\n",
    "assert len(brother_and_sister.instances) == 0\n"
   ]
  },
  {
   "cell_type": "markdown",
   "metadata": {},
   "source": [
    "### Existential Restrictions"
   ]
  },
  {
   "cell_type": "code",
   "execution_count": 9,
   "metadata": {},
   "outputs": [
    {
     "data": {
      "text/plain": [
       "<generator object KnowledgeBase.most_general_existential_restrictions at 0x7efd02c48570>"
      ]
     },
     "execution_count": 9,
     "metadata": {},
     "output_type": "execute_result"
    }
   ],
   "source": [
    "# \\exists r. Brother \n",
    "existential_restriction_brother= kb.most_general_existential_restrictions(brother)\n",
    "existential_restriction_brother "
   ]
  },
  {
   "cell_type": "code",
   "execution_count": 10,
   "metadata": {},
   "outputs": [],
   "source": [
    "existential_restriction_brother=list(existential_restriction_brother)"
   ]
  },
  {
   "cell_type": "code",
   "execution_count": 11,
   "metadata": {},
   "outputs": [
    {
     "name": "stdout",
     "output_type": "stream",
     "text": [
      "(∃hasChild.Brother)\n",
      "(∃hasParent.Brother)\n",
      "(∃hasSibling.Brother)\n",
      "(∃married.Brother)\n"
     ]
    }
   ],
   "source": [
    "for i in existential_restriction_brother:\n",
    "    print(i.str)"
   ]
  },
  {
   "cell_type": "markdown",
   "metadata": {},
   "source": [
    "# Universal Restrictions"
   ]
  },
  {
   "cell_type": "code",
   "execution_count": 12,
   "metadata": {},
   "outputs": [
    {
     "name": "stdout",
     "output_type": "stream",
     "text": [
      "(∀hasChild.Brother)\n",
      "(∀hasParent.Brother)\n",
      "(∀hasSibling.Brother)\n",
      "(∀married.Brother)\n"
     ]
    }
   ],
   "source": [
    "# \\exists r. Brother \n",
    "universal_restriction_brother= list(kb.most_general_universal_restriction(brother))\n",
    "\n",
    "for i in universal_restriction_brother:\n",
    "    print(i.str)"
   ]
  },
  {
   "cell_type": "markdown",
   "metadata": {},
   "source": [
    "# Semantics\n",
    "\n",
    "\n",
    "1. $\\exists R.C \\equiv \\neg (\\forall R.\\neg C)$ page 53 [1].\n",
    "\n",
    "\n",
    "\n"
   ]
  },
  {
   "cell_type": "code",
   "execution_count": 13,
   "metadata": {},
   "outputs": [],
   "source": [
    "# \\exists r. Brother \n",
    "universal_restriction_not_brother= list(kb.most_general_universal_restriction(not_brother))"
   ]
  },
  {
   "cell_type": "code",
   "execution_count": 14,
   "metadata": {},
   "outputs": [
    {
     "data": {
      "text/plain": [
       "'¬(∀hasChild.¬Brother)'"
      ]
     },
     "execution_count": 14,
     "metadata": {},
     "output_type": "execute_result"
    }
   ],
   "source": [
    "not_universal_haschild_not_brother=kb.negation(universal_restriction_not_brother[0])\n",
    "not_universal_haschild_not_brother.str"
   ]
  },
  {
   "cell_type": "code",
   "execution_count": 15,
   "metadata": {},
   "outputs": [
    {
     "data": {
      "text/plain": [
       "'(∃hasChild.Brother)'"
      ]
     },
     "execution_count": 15,
     "metadata": {},
     "output_type": "execute_result"
    }
   ],
   "source": [
    "exist_haschild_brother=existential_restriction_brother[0]\n",
    "exist_haschild_brother.str"
   ]
  },
  {
   "cell_type": "code",
   "execution_count": 16,
   "metadata": {},
   "outputs": [
    {
     "data": {
      "text/plain": [
       "True"
      ]
     },
     "execution_count": 16,
     "metadata": {},
     "output_type": "execute_result"
    }
   ],
   "source": [
    "exist_haschild_brother.instances==not_universal_haschild_not_brother.instances"
   ]
  },
  {
   "cell_type": "markdown",
   "metadata": {},
   "source": [
    "# References\n",
    "\n",
    "[1]@book{baader2003description,\n",
    "  title={The description logic handbook: Theory, implementation and applications},\n",
    "  author={Baader, Franz and Calvanese, Diego and McGuinness, Deborah and Patel-Schneider, Peter and Nardi, Daniele and others},\n",
    "  year={2003},\n",
    "  publisher={Cambridge university press}\n",
    "}"
   ]
  }
 ],
 "metadata": {
  "kernelspec": {
   "display_name": "Python (onto)",
   "language": "python",
   "name": "onto"
  },
  "language_info": {
   "codemirror_mode": {
    "name": "ipython",
    "version": 3
   },
   "file_extension": ".py",
   "mimetype": "text/x-python",
   "name": "python",
   "nbconvert_exporter": "python",
   "pygments_lexer": "ipython3",
   "version": "3.6.10"
  }
 },
 "nbformat": 4,
 "nbformat_minor": 4
}
