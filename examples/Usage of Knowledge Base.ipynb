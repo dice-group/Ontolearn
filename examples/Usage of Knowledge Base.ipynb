{
 "cells": [
  {
   "cell_type": "code",
   "execution_count": 1,
   "metadata": {},
   "outputs": [
    {
     "name": "stderr",
     "output_type": "stream",
     "text": [
      "* Owlready2 * Warning: optimized Cython parser module 'owlready2_optimized' is not available, defaulting to slower Python implementation\n"
     ]
    },
    {
     "name": "stdout",
     "output_type": "stream",
     "text": [
      "owlready2.Thing does not contains any individuals.\t\n"
     ]
    }
   ],
   "source": [
    "from ontolearn import KnowledgeBase\n",
    "\n",
    "import json\n",
    "\n",
    "with open('synthetic_problems.json') as json_file:\n",
    "    settings = json.load(json_file)\n",
    "\n",
    "kb = KnowledgeBase(path=settings['data_path'])"
   ]
  },
  {
   "cell_type": "code",
   "execution_count": 2,
   "metadata": {},
   "outputs": [
    {
     "data": {
      "text/plain": [
       "<ontolearn.base.KnowledgeBase at 0x7f81b10a05c0>"
      ]
     },
     "execution_count": 2,
     "metadata": {},
     "output_type": "execute_result"
    }
   ],
   "source": [
    "kb"
   ]
  },
  {
   "cell_type": "code",
   "execution_count": 3,
   "metadata": {},
   "outputs": [
    {
     "name": "stdout",
     "output_type": "stream",
     "text": [
      "<method-wrapper '__repr__' of Concept object at 0x7f812a2b02a8>\thttp://www.benchmark.org/family#Brother\n",
      "<method-wrapper '__repr__' of Concept object at 0x7f812a2b0470>\thttp://www.benchmark.org/family#PersonWithASibling\n",
      "<method-wrapper '__repr__' of Concept object at 0x7f812a2b0638>\thttp://www.benchmark.org/family#Male\n",
      "<method-wrapper '__repr__' of Concept object at 0x7f812a2b0768>\thttp://www.benchmark.org/family#Child\n",
      "<method-wrapper '__repr__' of Concept object at 0x7f812a2b0898>\thttp://www.benchmark.org/family#Person\n",
      "<method-wrapper '__repr__' of Concept object at 0x7f812a2b0930>\thttp://www.benchmark.org/family#Daughter\n",
      "<method-wrapper '__repr__' of Concept object at 0x7f812a2b09c8>\thttp://www.benchmark.org/family#Female\n",
      "<method-wrapper '__repr__' of Concept object at 0x7f812a2b0a60>\thttp://www.benchmark.org/family#Mother\n",
      "<method-wrapper '__repr__' of Concept object at 0x7f812a2b0af8>\thttp://www.benchmark.org/family#Grandmother\n",
      "<method-wrapper '__repr__' of Concept object at 0x7f812a2b0b90>\thttp://www.benchmark.org/family#Sister\n",
      "<method-wrapper '__repr__' of Concept object at 0x7f812a2b0c28>\thttp://www.benchmark.org/family#Granddaughter\n",
      "<method-wrapper '__repr__' of Concept object at 0x7f812a2b0cc0>\thttp://www.benchmark.org/family#Father\n",
      "<method-wrapper '__repr__' of Concept object at 0x7f812a2b0d58>\thttp://www.benchmark.org/family#Grandfather\n",
      "<method-wrapper '__repr__' of Concept object at 0x7f812a2b0df0>\thttp://www.benchmark.org/family#Son\n",
      "<method-wrapper '__repr__' of Concept object at 0x7f812a2b0e88>\thttp://www.benchmark.org/family#Grandson\n",
      "<method-wrapper '__repr__' of Concept object at 0x7f812a2b0f20>\thttp://www.benchmark.org/family#Parent\n",
      "<method-wrapper '__repr__' of Concept object at 0x7f812a23b048>\thttp://www.benchmark.org/family#Grandchild\n",
      "<method-wrapper '__repr__' of Concept object at 0x7f812a23b0e0>\thttp://www.benchmark.org/family#Grandparent\n",
      "<method-wrapper '__repr__' of Concept object at 0x7f812a2b0178>\thttp://www.w3.org/2002/07/owl#Thing\n",
      "<method-wrapper '__repr__' of Concept object at 0x7f812a2b0210>\thttp://www.w3.org/2002/07/owl#Nothing\n"
     ]
    }
   ],
   "source": [
    "# atomic Concepts\n",
    "for c_str,c in kb.concepts.items():\n",
    "    print(c)"
   ]
  },
  {
   "cell_type": "markdown",
   "metadata": {},
   "source": [
    "# Top down concept hierarchy"
   ]
  },
  {
   "cell_type": "code",
   "execution_count": 4,
   "metadata": {},
   "outputs": [
    {
     "name": "stdout",
     "output_type": "stream",
     "text": [
      "Thing\n",
      "\t\t Nothing\n",
      "\t\t Granddaughter\n",
      "\t\t Male\n",
      "\t\t Grandchild\n",
      "\t\t Mother\n",
      "\t\t PersonWithASibling\n",
      "\t\t Grandson\n",
      "\t\t Person\n",
      "\t\t Brother\n",
      "\t\t Father\n",
      "\t\t Grandparent\n",
      "\t\t Grandmother\n",
      "\t\t Parent\n",
      "\t\t Daughter\n",
      "\t\t Grandfather\n",
      "\t\t Child\n",
      "\t\t Sister\n",
      "\t\t Female\n",
      "\t\t Son\n",
      "PersonWithASibling\n",
      "\t\t Sister\n",
      "\t\t Brother\n",
      "Male\n",
      "\t\t Grandson\n",
      "\t\t Brother\n",
      "\t\t Father\n",
      "\t\t Grandfather\n",
      "\t\t Son\n",
      "Child\n",
      "\t\t Granddaughter\n",
      "\t\t Grandchild\n",
      "\t\t Grandson\n",
      "\t\t Daughter\n",
      "\t\t Son\n",
      "Person\n",
      "\t\t Granddaughter\n",
      "\t\t Male\n",
      "\t\t Grandchild\n",
      "\t\t Mother\n",
      "\t\t PersonWithASibling\n",
      "\t\t Grandson\n",
      "\t\t Brother\n",
      "\t\t Father\n",
      "\t\t Grandparent\n",
      "\t\t Grandmother\n",
      "\t\t Parent\n",
      "\t\t Daughter\n",
      "\t\t Grandfather\n",
      "\t\t Child\n",
      "\t\t Sister\n",
      "\t\t Female\n",
      "\t\t Son\n",
      "Female\n",
      "\t\t Granddaughter\n",
      "\t\t Mother\n",
      "\t\t Grandmother\n",
      "\t\t Daughter\n",
      "\t\t Sister\n",
      "Parent\n",
      "\t\t Mother\n",
      "\t\t Father\n",
      "\t\t Grandparent\n",
      "\t\t Grandmother\n",
      "\t\t Grandfather\n",
      "Grandchild\n",
      "\t\t Grandson\n",
      "\t\t Granddaughter\n",
      "Grandparent\n",
      "\t\t Grandfather\n",
      "\t\t Grandmother\n"
     ]
    }
   ],
   "source": [
    "for k,vv in kb.top_down_concept_hierarchy.items():\n",
    "    print(k.str) # string representation.\n",
    "    for v in vv:\n",
    "        print('\\t'*2,v.str)"
   ]
  },
  {
   "cell_type": "markdown",
   "metadata": {},
   "source": [
    "# Top down direct concept hierarchy"
   ]
  },
  {
   "cell_type": "code",
   "execution_count": 5,
   "metadata": {},
   "outputs": [
    {
     "name": "stdout",
     "output_type": "stream",
     "text": [
      "PersonWithASibling\n",
      "\t\t Sister\n",
      "\t\t Brother\n",
      "Male\n",
      "\t\t Grandson\n",
      "\t\t Brother\n",
      "\t\t Father\n",
      "\t\t Grandfather\n",
      "\t\t Son\n",
      "Child\n",
      "\t\t Daughter\n",
      "\t\t Grandchild\n",
      "\t\t Son\n",
      "Person\n",
      "\t\t Male\n",
      "\t\t PersonWithASibling\n",
      "\t\t Parent\n",
      "\t\t Child\n",
      "\t\t Female\n",
      "Female\n",
      "\t\t Granddaughter\n",
      "\t\t Mother\n",
      "\t\t Grandmother\n",
      "\t\t Daughter\n",
      "\t\t Sister\n",
      "Parent\n",
      "\t\t Father\n",
      "\t\t Mother\n",
      "\t\t Grandparent\n",
      "Grandchild\n",
      "\t\t Grandson\n",
      "\t\t Granddaughter\n",
      "Grandparent\n",
      "\t\t Grandfather\n",
      "\t\t Grandmother\n"
     ]
    }
   ],
   "source": [
    "for k,vv in kb.top_down_direct_concept_hierarchy.items():\n",
    "    print(k.str) # string representation.\n",
    "    for v in vv:\n",
    "        print('\\t'*2,v.str)"
   ]
  },
  {
   "cell_type": "markdown",
   "metadata": {},
   "source": [
    "# Down Top direct concept hierarchy"
   ]
  },
  {
   "cell_type": "code",
   "execution_count": 6,
   "metadata": {},
   "outputs": [
    {
     "name": "stdout",
     "output_type": "stream",
     "text": [
      "Brother\n",
      "\t\t Male\n",
      "\t\t PersonWithASibling\n",
      "Sister\n",
      "\t\t Female\n",
      "\t\t PersonWithASibling\n",
      "Father\n",
      "\t\t Parent\n",
      "\t\t Male\n",
      "Grandfather\n",
      "\t\t Male\n",
      "\t\t Grandparent\n",
      "Son\n",
      "\t\t Male\n",
      "\t\t Child\n",
      "Grandson\n",
      "\t\t Male\n",
      "\t\t Grandchild\n",
      "Daughter\n",
      "\t\t Female\n",
      "\t\t Child\n",
      "Grandchild\n",
      "\t\t Child\n",
      "PersonWithASibling\n",
      "\t\t Person\n",
      "Male\n",
      "\t\t Person\n",
      "Child\n",
      "\t\t Person\n",
      "Female\n",
      "\t\t Person\n",
      "Parent\n",
      "\t\t Person\n",
      "Mother\n",
      "\t\t Parent\n",
      "\t\t Female\n",
      "Grandmother\n",
      "\t\t Female\n",
      "\t\t Grandparent\n",
      "Granddaughter\n",
      "\t\t Female\n",
      "\t\t Grandchild\n",
      "Grandparent\n",
      "\t\t Parent\n"
     ]
    }
   ],
   "source": [
    "for k,vv in kb.down_top_direct_concept_hierarchy.items():\n",
    "    print(k.str) # string representation.\n",
    "    for v in vv:\n",
    "        print('\\t'*2,v.str)"
   ]
  },
  {
   "cell_type": "markdown",
   "metadata": {},
   "source": [
    "# Operations"
   ]
  },
  {
   "cell_type": "code",
   "execution_count": 7,
   "metadata": {},
   "outputs": [
    {
     "name": "stdout",
     "output_type": "stream",
     "text": [
      "Grandparent\n",
      "¬Grandparent\n"
     ]
    }
   ],
   "source": [
    "# negation\n",
    "print(k.str)\n",
    "neg_k=next(kb.negation(k))\n",
    "\n",
    "print(neg_k.str)"
   ]
  },
  {
   "cell_type": "code",
   "execution_count": 8,
   "metadata": {},
   "outputs": [
    {
     "name": "stdout",
     "output_type": "stream",
     "text": [
      "(Grandparent ⊔ Grandparent)\n"
     ]
    }
   ],
   "source": [
    "# union\n",
    "print(kb.union(k,k).str)"
   ]
  },
  {
   "cell_type": "code",
   "execution_count": 9,
   "metadata": {},
   "outputs": [
    {
     "name": "stdout",
     "output_type": "stream",
     "text": [
      "(Grandparent ⊔ ¬Grandparent)\n"
     ]
    }
   ],
   "source": [
    "print(kb.union(neg_k,k).str)"
   ]
  },
  {
   "cell_type": "code",
   "execution_count": 10,
   "metadata": {},
   "outputs": [
    {
     "name": "stdout",
     "output_type": "stream",
     "text": [
      "Nothing\n"
     ]
    }
   ],
   "source": [
    "print(kb.intersection(k,neg_k).str)"
   ]
  },
  {
   "cell_type": "markdown",
   "metadata": {},
   "source": [
    "# Get all Grandparents"
   ]
  },
  {
   "cell_type": "code",
   "execution_count": 11,
   "metadata": {},
   "outputs": [
    {
     "data": {
      "text/plain": [
       "{family.F10F172,\n",
       " family.F10F186,\n",
       " family.F10F195,\n",
       " family.F10M171,\n",
       " family.F10M187,\n",
       " family.F10M196,\n",
       " family.F1F2,\n",
       " family.F1M1,\n",
       " family.F2F10,\n",
       " family.F2F12,\n",
       " family.F2F19,\n",
       " family.F2F22,\n",
       " family.F2F28,\n",
       " family.F2F30,\n",
       " family.F2M11,\n",
       " family.F2M20,\n",
       " family.F2M21,\n",
       " family.F2M29,\n",
       " family.F2M31,\n",
       " family.F2M9,\n",
       " family.F3F41,\n",
       " family.F3F42,\n",
       " family.F3F46,\n",
       " family.F3F48,\n",
       " family.F3M40,\n",
       " family.F3M43,\n",
       " family.F3M45,\n",
       " family.F3M47,\n",
       " family.F4F55,\n",
       " family.F4M54,\n",
       " family.F5F61,\n",
       " family.F5F65,\n",
       " family.F5M60,\n",
       " family.F5M64,\n",
       " family.F6F70,\n",
       " family.F6F72,\n",
       " family.F6F77,\n",
       " family.F6F84,\n",
       " family.F6F93,\n",
       " family.F6F94,\n",
       " family.F6M69,\n",
       " family.F6M71,\n",
       " family.F6M78,\n",
       " family.F6M85,\n",
       " family.F6M92,\n",
       " family.F6M95,\n",
       " family.F7F103,\n",
       " family.F7F105,\n",
       " family.F7F106,\n",
       " family.F7F108,\n",
       " family.F7F121,\n",
       " family.F7F124,\n",
       " family.F7M102,\n",
       " family.F7M104,\n",
       " family.F7M107,\n",
       " family.F7M109,\n",
       " family.F7M122,\n",
       " family.F7M123,\n",
       " family.F8F133,\n",
       " family.F8F135,\n",
       " family.F8M132,\n",
       " family.F8M134,\n",
       " family.F9F140,\n",
       " family.F9F141,\n",
       " family.F9F143,\n",
       " family.F9F158,\n",
       " family.F9M139,\n",
       " family.F9M142,\n",
       " family.F9M144,\n",
       " family.F9M157}"
      ]
     },
     "execution_count": 11,
     "metadata": {},
     "output_type": "execute_result"
    }
   ],
   "source": [
    "k.instances"
   ]
  },
  {
   "cell_type": "markdown",
   "metadata": {},
   "source": [
    "# Universal and Existential Restrictions"
   ]
  },
  {
   "cell_type": "code",
   "execution_count": 12,
   "metadata": {},
   "outputs": [
    {
     "name": "stdout",
     "output_type": "stream",
     "text": [
      "<method-wrapper '__repr__' of Concept object at 0x7f812a23b340>\thttps://dice-research.org/(∀hasChild.Grandparent)\n",
      "<method-wrapper '__repr__' of Concept object at 0x7f812a23b3d8>\thttps://dice-research.org/(∀married.Grandparent)\n",
      "<method-wrapper '__repr__' of Concept object at 0x7f812a23b470>\thttps://dice-research.org/(∀hasParent.Grandparent)\n",
      "<method-wrapper '__repr__' of Concept object at 0x7f812a23b508>\thttps://dice-research.org/(∀hasSibling.Grandparent)\n"
     ]
    }
   ],
   "source": [
    "for a in kb.most_general_universal_restriction(k):\n",
    "    print(a)"
   ]
  },
  {
   "cell_type": "code",
   "execution_count": 13,
   "metadata": {},
   "outputs": [
    {
     "name": "stdout",
     "output_type": "stream",
     "text": [
      "<method-wrapper '__repr__' of Concept object at 0x7f812a23b340>\thttps://dice-research.org/(∀hasChild.Grandparent)\n",
      "<method-wrapper '__repr__' of Concept object at 0x7f812a23b3d8>\thttps://dice-research.org/(∀married.Grandparent)\n",
      "<method-wrapper '__repr__' of Concept object at 0x7f812a23b470>\thttps://dice-research.org/(∀hasParent.Grandparent)\n",
      "<method-wrapper '__repr__' of Concept object at 0x7f812a23b508>\thttps://dice-research.org/(∀hasSibling.Grandparent)\n"
     ]
    }
   ],
   "source": [
    "for b in kb.most_general_universal_restriction(k):\n",
    "    print(b)"
   ]
  },
  {
   "cell_type": "code",
   "execution_count": 14,
   "metadata": {},
   "outputs": [
    {
     "name": "stdout",
     "output_type": "stream",
     "text": [
      "((∀hasSibling.Grandparent)  ⊓  (∀hasSibling.Grandparent))\n",
      "7\n",
      "149\n"
     ]
    }
   ],
   "source": [
    "complex_concept=kb.intersection(a,b)\n",
    "\n",
    "print(complex_concept.str)\n",
    "\n",
    "print(len(complex_concept))\n",
    "\n",
    "print(len(complex_concept.instances))"
   ]
  }
 ],
 "metadata": {
  "kernelspec": {
   "display_name": "Python (onto)",
   "language": "python",
   "name": "onto"
  },
  "language_info": {
   "codemirror_mode": {
    "name": "ipython",
    "version": 3
   },
   "file_extension": ".py",
   "mimetype": "text/x-python",
   "name": "python",
   "nbconvert_exporter": "python",
   "pygments_lexer": "ipython3",
   "version": "3.6.10"
  }
 },
 "nbformat": 4,
 "nbformat_minor": 4
}
