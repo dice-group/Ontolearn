{
 "cells": [
  {
   "cell_type": "markdown",
   "id": "thick-expansion",
   "metadata": {},
   "source": [
    "# CLIP Notebook\n",
    "This is a jupyter notebook file to execute [CLIP](ontolearn.concept_learner.CLIP) and generate predictive results. We recommend you to see the [concept learners](../docs/usage/06_concept_learners.md) guide before continuing with the execution.\n",
    "Also if you have not done it already, from the main directory \"Ontolearn\", run the commands for Datasets mentioned [here](https://ontolearn-docs-dice-group.netlify.app/usage/02_installation#download-external-files) to download the datasets."
   ]
  },
  {
   "cell_type": "code",
   "execution_count": 1,
   "id": "typical-modification",
   "metadata": {
    "tags": []
   },
   "outputs": [
    {
     "name": "stderr",
     "output_type": "stream",
     "text": [
      "/home/nkouagou/.conda/envs/onto/lib/python3.10/site-packages/tqdm/auto.py:21: TqdmWarning: IProgress not found. Please update jupyter and ipywidgets. See https://ipywidgets.readthedocs.io/en/stable/user_install.html\n",
      "  from .autonotebook import tqdm as notebook_tqdm\n"
     ]
    }
   ],
   "source": [
    "import json\n",
    "from ontolearn.knowledge_base import KnowledgeBase\n",
    "from ontolearn.concept_learner import CLIP\n",
    "from ontolearn.refinement_operators import ExpressRefinement\n",
    "from ontolearn.learning_problem import PosNegLPStandard\n",
    "from owlapy.owl_individual import OWLNamedIndividual, IRI\n",
    "from ontolearn.utils import setup_logging\n"
   ]
  },
  {
   "cell_type": "markdown",
   "id": "vocational-focus",
   "metadata": {},
   "source": [
    "Open `uncle_lp.json` where we have stored the learning problem for the concept of 'Uncle' and the path to the 'family' ontology."
   ]
  },
  {
   "cell_type": "code",
   "execution_count": 2,
   "id": "special-bloom",
   "metadata": {
    "tags": []
   },
   "outputs": [],
   "source": [
    "with open('uncle_lp.json') as json_file:\n",
    "    settings = json.load(json_file)"
   ]
  },
  {
   "cell_type": "markdown",
   "id": "functional-temple",
   "metadata": {},
   "source": [
    "Create an instance of the class `KnowledeBase` by using the path that is stored in `settings`."
   ]
  },
  {
   "cell_type": "code",
   "execution_count": 3,
   "id": "neutral-present",
   "metadata": {
    "tags": []
   },
   "outputs": [],
   "source": [
    "kb = KnowledgeBase(path=settings['data_path'])"
   ]
  },
  {
   "cell_type": "markdown",
   "id": "valued-dutch",
   "metadata": {},
   "source": [
    "Retreive the IRIs of the positive and negative examples of Uncle from `settings` and create an instance of `PosNegLPStandard`. (more info about this [here](../docs/usage/06_concept_learners.md#configure-the-learning-problem))"
   ]
  },
  {
   "cell_type": "code",
   "execution_count": 4,
   "id": "applicable-double",
   "metadata": {
    "tags": []
   },
   "outputs": [],
   "source": [
    "examples = settings['Uncle']\n",
    "p = set(examples['positive_examples'])\n",
    "n = set(examples['negative_examples'])\n",
    "typed_pos = set(map(OWLNamedIndividual, map(IRI.create, p)))\n",
    "typed_neg = set(map(OWLNamedIndividual, map(IRI.create, n)))\n",
    "lp = PosNegLPStandard(pos=typed_pos, neg=typed_neg)"
   ]
  },
  {
   "cell_type": "markdown",
   "id": "filled-tract",
   "metadata": {},
   "source": [
    "Create a model of [CLIP](ontolearn.concept_learner.CLIP) and fit the learning problem to the model."
   ]
  },
  {
   "cell_type": "code",
   "execution_count": 5,
   "id": "floppy-enzyme",
   "metadata": {
    "tags": []
   },
   "outputs": [],
   "source": [
    "op = ExpressRefinement(knowledge_base=kb, use_inverse=False,\n",
    "                          use_numeric_datatypes=False)"
   ]
  },
  {
   "cell_type": "code",
   "execution_count": 6,
   "id": "given-democrat",
   "metadata": {
    "tags": []
   },
   "outputs": [
    {
     "name": "stdout",
     "output_type": "stream",
     "text": [
      "\n",
      " Loaded length predictor!\n",
      "\n",
      " Loaded length predictor!\n",
      "\n",
      " Loaded length predictor!\n",
      "\n",
      " Loaded length predictor!\n"
     ]
    },
    {
     "name": "stderr",
     "output_type": "stream",
     "text": [
      "/home/nkouagou/.conda/envs/onto/lib/python3.10/site-packages/torch/cuda/__init__.py:141: UserWarning: CUDA initialization: The NVIDIA driver on your system is too old (found version 6050). Please update your GPU driver by downloading and installing a new version from the URL: http://www.nvidia.com/Download/index.aspx Alternatively, go to: https://pytorch.org to install a PyTorch version that has been compiled with your version of the CUDA driver. (Triggered internally at ../c10/cuda/CUDAFunctions.cpp:108.)\n",
      "  return torch._C._cuda_getDeviceCount() > 0\n"
     ]
    },
    {
     "name": "stdout",
     "output_type": "stream",
     "text": [
      "\n",
      "***** Predicted length: 5 *****\n",
      "\n",
      "***** Predicted length: 5 *****\n"
     ]
    },
    {
     "data": {
      "text/plain": [
       "<ontolearn.concept_learner.CLIP at 0x7f5488546110>"
      ]
     },
     "execution_count": 6,
     "metadata": {},
     "output_type": "execute_result"
    }
   ],
   "source": [
    "model = CLIP(knowledge_base=kb, path_of_embeddings=\"../CLIPData/family/embeddings/ConEx_entity_embeddings.csv\",\n",
    "             refinement_operator=op, load_pretrained=True, max_runtime=200)\n",
    "model.fit(lp)"
   ]
  },
  {
   "cell_type": "code",
   "execution_count": 7,
   "id": "demanding-feeling",
   "metadata": {},
   "outputs": [
    {
     "data": {
      "text/plain": [
       "[<class 'ontolearn.search.OENode'> at 0x8516977\tBrother ⊔ (∃ married.Sister)\tQuality:0.93827\tHeuristic:0.44752\tDepth:2\tH_exp:6\t|RC|:4\t|Indv.|:None,\n",
       " <class 'ontolearn.search.OENode'> at 0x8516970\tBrother ⊔ (∃ married.Daughter)\tQuality:0.92683\tHeuristic:0.43264\tDepth:2\tH_exp:6\t|RC|:4\t|Indv.|:None,\n",
       " <class 'ontolearn.search.OENode'> at 0x8518500\tSon ⊔ (∃ married.Sister)\tQuality:0.91566\tHeuristic:0.42124\tDepth:2\tH_exp:6\t|RC|:4\t|Indv.|:None,\n",
       " <class 'ontolearn.search.OENode'> at 0x85184f9\tSon ⊔ (∃ married.Daughter)\tQuality:0.90476\tHeuristic:0.40707\tDepth:2\tH_exp:6\t|RC|:4\t|Indv.|:None,\n",
       " <class 'ontolearn.search.OENode'> at 0x851870d\tMale ⊓ (∀ hasParent.Grandparent)\tQuality:0.90476\tHeuristic:0.40407\tDepth:2\tH_exp:6\t|RC|:7\t|Indv.|:None,\n",
       " <class 'ontolearn.search.OENode'> at 0x85187ca\tMale ⊓ (∀ hasChild.Grandchild)\tQuality:0.90476\tHeuristic:0.40407\tDepth:2\tH_exp:6\t|RC|:7\t|Indv.|:None,\n",
       " <class 'ontolearn.search.OENode'> at 0x85184e4\tBrother ⊔ (∀ married.Sister)\tQuality:0.89412\tHeuristic:0.37788\tDepth:3\tH_exp:6\t|RC|:3\t|Indv.|:None,\n",
       " <class 'ontolearn.search.OENode'> at 0x8997da8\tBrother ⊔ (∃ married.Female)\tQuality:0.89412\tHeuristic:0.45336\tDepth:1\tH_exp:6\t|RC|:9\t|Indv.|:None,\n",
       " <class 'ontolearn.search.OENode'> at 0x851a43c\tMale ⊓ (∀ hasChild.(¬Grandfather))\tQuality:0.88889\tHeuristic:0.39044\tDepth:2\tH_exp:6\t|RC|:0\t|Indv.|:None,\n",
       " <class 'ontolearn.search.OENode'> at 0x882ab84\tMale\tQuality:0.88372\tHeuristic:0.38383\tDepth:1\tH_exp:4\t|RC|:265\t|Indv.|:None]"
      ]
     },
     "execution_count": 7,
     "metadata": {},
     "output_type": "execute_result"
    }
   ],
   "source": [
    "list(model.best_descriptions)#[0].quality"
   ]
  },
  {
   "cell_type": "markdown",
   "id": "together-enforcement",
   "metadata": {},
   "source": [
    "## Retrieve top 3 hypotheses and print them."
   ]
  },
  {
   "cell_type": "code",
   "execution_count": 8,
   "id": "insured-enterprise",
   "metadata": {
    "tags": []
   },
   "outputs": [
    {
     "name": "stdout",
     "output_type": "stream",
     "text": [
      "OWLObjectUnionOf((OWLClass(IRI('http://www.benchmark.org/family#','Brother')), OWLObjectSomeValuesFrom(property=OWLObjectProperty(IRI('http://www.benchmark.org/family#','married')),filler=OWLClass(IRI('http://www.benchmark.org/family#','Sister')))))\n",
      "OWLObjectUnionOf((OWLClass(IRI('http://www.benchmark.org/family#','Brother')), OWLObjectSomeValuesFrom(property=OWLObjectProperty(IRI('http://www.benchmark.org/family#','married')),filler=OWLClass(IRI('http://www.benchmark.org/family#','Daughter')))))\n",
      "OWLObjectUnionOf((OWLClass(IRI('http://www.benchmark.org/family#','Son')), OWLObjectSomeValuesFrom(property=OWLObjectProperty(IRI('http://www.benchmark.org/family#','married')),filler=OWLClass(IRI('http://www.benchmark.org/family#','Sister')))))\n"
     ]
    },
    {
     "data": {
      "text/plain": [
       "[None, None, None]"
      ]
     },
     "execution_count": 8,
     "metadata": {},
     "output_type": "execute_result"
    }
   ],
   "source": [
    "hypotheses = list(model.best_hypotheses(n=3))\n",
    "[print(_) for _ in hypotheses]"
   ]
  },
  {
   "cell_type": "code",
   "execution_count": null,
   "id": "surprising-transfer",
   "metadata": {},
   "outputs": [],
   "source": []
  }
 ],
 "metadata": {
  "kernelspec": {
   "display_name": "onto",
   "language": "python",
   "name": "onto"
  },
  "language_info": {
   "codemirror_mode": {
    "name": "ipython",
    "version": 3
   },
   "file_extension": ".py",
   "mimetype": "text/x-python",
   "name": "python",
   "nbconvert_exporter": "python",
   "pygments_lexer": "ipython3",
   "version": "3.10.14"
  }
 },
 "nbformat": 4,
 "nbformat_minor": 5
}
