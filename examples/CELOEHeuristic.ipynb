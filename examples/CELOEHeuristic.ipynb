{
 "cells": [
  {
   "cell_type": "code",
   "execution_count": 1,
   "metadata": {},
   "outputs": [
    {
     "name": "stderr",
     "output_type": "stream",
     "text": [
      "* Owlready2 * Warning: optimized Cython parser module 'owlready2_optimized' is not available, defaulting to slower Python implementation\n"
     ]
    }
   ],
   "source": [
    "import json\n",
    "from ontolearn import KnowledgeBase, SampleConceptLearner\n",
    "from ontolearn.metrics import F1, PredictiveAccuracy, CELOEHeuristic\n",
    "with open('artifical_problems.json') as json_file:\n",
    "    settings = json.load(json_file)"
   ]
  },
  {
   "cell_type": "code",
   "execution_count": 2,
   "metadata": {},
   "outputs": [
    {
     "data": {
      "text/plain": [
       "dict_keys(['Aunt', 'Brother', 'Cousin'])"
      ]
     },
     "execution_count": 2,
     "metadata": {},
     "output_type": "execute_result"
    }
   ],
   "source": [
    "settings['problems'].keys()"
   ]
  },
  {
   "cell_type": "code",
   "execution_count": 3,
   "metadata": {},
   "outputs": [],
   "source": [
    "kb = KnowledgeBase(path=settings['data_path'])"
   ]
  },
  {
   "cell_type": "code",
   "execution_count": 4,
   "metadata": {},
   "outputs": [
    {
     "name": "stdout",
     "output_type": "stream",
     "text": [
      "A target concept: Aunt\n",
      "minimum horizontal expansion is now  1\n",
      "minimum horizontal expansion is now  2\n",
      "minimum horizontal expansion is now  3\n",
      "Number of times quality function applied:  369\n",
      "########  Final step Search Tree ###########\n",
      "1-\t(Female  ⊓  ¬Male)\tF1:0.80392\tHeuristic:0.49792:\n",
      "2-\t¬Male\tF1:0.80392\tHeuristic:0.48538:\n",
      "3-\t(Female ⊔ Grandmother)\tF1:0.80392\tHeuristic:0.48052:\n",
      "4-\t(Person  ⊓  ¬Male)\tF1:0.80392\tHeuristic:0.48038:\n",
      "5-\t(Female  ⊓  ¬Father)\tF1:0.80392\tHeuristic:0.47938:\n",
      "6-\t(Female ⊔ Sister)\tF1:0.80392\tHeuristic:0.47638:\n",
      "7-\t(Female ⊔ Granddaughter)\tF1:0.80392\tHeuristic:0.47239:\n",
      "8-\t(Daughter ⊔ Female)\tF1:0.80392\tHeuristic:0.46853:\n",
      "9-\t(Female ⊔ Mother)\tF1:0.80392\tHeuristic:0.46666:\n",
      "10-\tFemale\tF1:0.80392\tHeuristic:0.39074:\n",
      "######## Search Tree ###########\n",
      "\n",
      "A target concept: Brother\n",
      "Number of times quality function applied:  8\n",
      "########  Final step Search Tree ###########\n",
      "1-\tBrother\tF1:1.0\tHeuristic:0.97692:\n",
      "2-\tPersonWithASibling\tF1:0.92308\tHeuristic:0.74416:\n",
      "3-\tChild\tF1:0.83333\tHeuristic:0.78333:\n",
      "4-\tMale\tF1:0.82192\tHeuristic:0.77534:\n",
      "5-\tThing\tF1:0.66667\tHeuristic:0.66567:\n",
      "6-\tPerson\tF1:0.66667\tHeuristic:0.56167:\n",
      "7-\tParent\tF1:0.48387\tHeuristic:0.53871:\n",
      "######## Search Tree ###########\n",
      "\n",
      "A target concept: Cousin\n",
      "minimum horizontal expansion is now  1\n",
      "minimum horizontal expansion is now  2\n",
      "minimum horizontal expansion is now  3\n",
      "Number of times quality function applied:  307\n",
      "########  Final step Search Tree ###########\n",
      "1-\t¬Grandparent\tF1:0.69006\tHeuristic:0.38623:\n",
      "2-\t(Person  ⊓  ¬Grandparent)\tF1:0.69006\tHeuristic:0.38123:\n",
      "3-\t¬Grandfather\tF1:0.68063\tHeuristic:0.37444:\n",
      "4-\t(Person  ⊓  ¬Grandfather)\tF1:0.68063\tHeuristic:0.36944:\n",
      "5-\t(Female ⊔ ¬Grandfather)\tF1:0.68063\tHeuristic:0.67644:\n",
      "6-\t¬Grandmother\tF1:0.67358\tHeuristic:0.36951:\n",
      "7-\t(Person  ⊓  ¬Grandmother)\tF1:0.67358\tHeuristic:0.36451:\n",
      "8-\t(Male ⊔ ¬Grandmother)\tF1:0.67358\tHeuristic:0.67151:\n",
      "9-\tThing\tF1:0.66667\tHeuristic:0.43767:\n",
      "10-\tPerson\tF1:0.66667\tHeuristic:0.43267:\n",
      "######## Search Tree ###########\n",
      "\n"
     ]
    }
   ],
   "source": [
    "for str_target_concept, examples in settings['problems'].items():\n",
    "    p = set(examples['positive_examples'])\n",
    "    n = set(examples['negative_examples'])\n",
    "    print('A target concept:',str_target_concept)\n",
    "    model = SampleConceptLearner(knowledge_base=kb,\n",
    "                                 quality_func=F1(),\n",
    "                                 terminate_on_goal=True,\n",
    "                                 heuristic_func=CELOEHeuristic(),\n",
    "                                 iter_bound=500,\n",
    "                                 verbose=False)\n",
    "\n",
    "    model.predict(pos=p, neg=n)\n",
    "    model.show_best_predictions(top_n=10)"
   ]
  },
  {
   "cell_type": "code",
   "execution_count": null,
   "metadata": {},
   "outputs": [],
   "source": []
  }
 ],
 "metadata": {
  "kernelspec": {
   "display_name": "Python (myenv)\n",
   "language": "python",
   "name": "myenv"
  },
  "language_info": {
   "codemirror_mode": {
    "name": "ipython",
    "version": 3
   },
   "file_extension": ".py",
   "mimetype": "text/x-python",
   "name": "python",
   "nbconvert_exporter": "python",
   "pygments_lexer": "ipython3",
   "version": "3.6.10"
  }
 },
 "nbformat": 4,
 "nbformat_minor": 4
}
