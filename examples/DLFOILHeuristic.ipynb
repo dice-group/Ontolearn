{
 "cells": [
  {
   "cell_type": "code",
   "execution_count": 1,
   "metadata": {},
   "outputs": [
    {
     "name": "stderr",
     "output_type": "stream",
     "text": [
      "* Owlready2 * Warning: optimized Cython parser module 'owlready2_optimized' is not available, defaulting to slower Python implementation\n"
     ]
    },
    {
     "name": "stdout",
     "output_type": "stream",
     "text": [
      "A target concept: Aunt\n",
      "Number of times quality function applied:  199\n",
      "########  Final step Search Tree ###########\n",
      "1-\tFemale\tF1:0.80392\tHeuristic:29.65531:\n",
      "2-\t(Mother ⊔ Sister)\tF1:0.76087\tHeuristic:1.1303:\n",
      "3-\t(Daughter ⊔ Mother)\tF1:0.74468\tHeuristic:-1.37076:\n",
      "4-\t(Sister ⊔ (∃hasChild.Female))\tF1:0.70423\tHeuristic:8.81504:\n",
      "5-\t(Sister ⊔ (∃married.Female))\tF1:0.70423\tHeuristic:8.81504:\n",
      "6-\t(Sister ⊔ (∃hasParent.Female))\tF1:0.70423\tHeuristic:8.81504:\n",
      "7-\t(Sister ⊔ (∃hasSibling.Female))\tF1:0.70423\tHeuristic:8.81504:\n",
      "8-\tSister\tF1:0.70423\tHeuristic:8.81504:\n",
      "9-\t(Sister  ⊓  (∀hasChild.Female))\tF1:0.70423\tHeuristic:8.81504:\n",
      "10-\t(Sister  ⊓  (∀married.Female))\tF1:0.70423\tHeuristic:8.81504:\n",
      "######## Search Tree ###########\n",
      "\n",
      "A target concept: Brother\n",
      "Number of times quality function applied:  8\n",
      "########  Final step Search Tree ###########\n",
      "1-\tBrother\tF1:1.0\tHeuristic:26.26406:\n",
      "2-\tPersonWithASibling\tF1:0.92308\tHeuristic:30.94805:\n",
      "3-\tChild\tF1:0.83333\tHeuristic:19.9163:\n",
      "4-\tMale\tF1:0.82192\tHeuristic:19.9163:\n",
      "5-\tPerson\tF1:0.66667\tHeuristic:0.14815:\n",
      "6-\tThing\tF1:0.66667\tHeuristic:-57.36026:\n",
      "7-\tParent\tF1:0.48387\tHeuristic:-2.58557:\n",
      "######## Search Tree ###########\n",
      "\n",
      "A target concept: Cousin\n",
      "Number of times quality function applied:  75\n",
      "########  Final step Search Tree ###########\n",
      "1-\tPerson\tF1:0.66667\tHeuristic:0.35062:\n",
      "2-\tThing\tF1:0.66667\tHeuristic:-74.58735:\n",
      "3-\t((∀hasChild.PersonWithASibling)  ⊓  (∀hasSibling.PersonWithASibling))\tF1:0.66667\tHeuristic:-17.01131:\n",
      "4-\t((∀hasParent.PersonWithASibling)  ⊓  (∀married.PersonWithASibling))\tF1:0.66667\tHeuristic:-17.01131:\n",
      "5-\t((∀hasSibling.PersonWithASibling)  ⊓  (∀married.PersonWithASibling))\tF1:0.66667\tHeuristic:-17.01131:\n",
      "6-\t((∀hasParent.PersonWithASibling)  ⊓  (∀hasSibling.PersonWithASibling))\tF1:0.66667\tHeuristic:-17.01131:\n",
      "7-\t(∀hasChild.PersonWithASibling)\tF1:0.66667\tHeuristic:-17.01131:\n",
      "8-\t(∀married.PersonWithASibling)\tF1:0.66667\tHeuristic:-17.01131:\n",
      "9-\t(∀hasParent.PersonWithASibling)\tF1:0.66667\tHeuristic:-17.01131:\n",
      "10-\t(∀hasSibling.PersonWithASibling)\tF1:0.66667\tHeuristic:-17.01131:\n",
      "######## Search Tree ###########\n",
      "\n"
     ]
    }
   ],
   "source": [
    "\"\"\" concept_learning.py\"\"\"\n",
    "from ontolearn import KnowledgeBase, SampleConceptLearner\n",
    "from ontolearn.metrics import F1, PredictiveAccuracy, DLFOILHeuristic\n",
    "import json\n",
    "\n",
    "with open('artifical_problems.json') as json_file:\n",
    "    settings = json.load(json_file)\n",
    "\n",
    "kb = KnowledgeBase(path=settings['data_path'])\n",
    "\n",
    "for str_target_concept, examples in settings['problems'].items():\n",
    "    p = set(examples['positive_examples'])\n",
    "    n = set(examples['negative_examples'])\n",
    "    print('A target concept:',str_target_concept)\n",
    "    model = SampleConceptLearner(knowledge_base=kb,\n",
    "                                 quality_func=F1(),\n",
    "                                 terminate_on_goal=True,\n",
    "                                 heuristic_func=DLFOILHeuristic(),\n",
    "                                 iter_bound=100,\n",
    "                                 verbose=False)\n",
    "\n",
    "    model.predict(pos=p, neg=n)\n",
    "    model.show_best_predictions(top_n=10)"
   ]
  }
 ],
 "metadata": {
  "kernelspec": {
   "display_name": "Python (myenv)\n",
   "language": "python",
   "name": "myenv"
  },
  "language_info": {
   "codemirror_mode": {
    "name": "ipython",
    "version": 3
   },
   "file_extension": ".py",
   "mimetype": "text/x-python",
   "name": "python",
   "nbconvert_exporter": "python",
   "pygments_lexer": "ipython3",
   "version": "3.6.10"
  }
 },
 "nbformat": 4,
 "nbformat_minor": 4
}
