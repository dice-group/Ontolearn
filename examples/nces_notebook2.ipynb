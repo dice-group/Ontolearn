{
 "cells": [
  {
   "cell_type": "markdown",
   "id": "atmospheric-marker",
   "metadata": {},
   "source": [
    "From the main directory \"Ontolearn\", run the commands for NCES data mentioned [here](https://ontolearn-docs-dice-group.netlify.app/usage/02_installation#download-external-files) to download pretrained models and datasets."
   ]
  },
  {
   "cell_type": "code",
   "execution_count": 1,
   "id": "specific-german",
   "metadata": {},
   "outputs": [
    {
     "name": "stderr",
     "output_type": "stream",
     "text": [
      "/opt/conda/envs/onto_env/lib/python3.10/site-packages/tqdm/auto.py:21: TqdmWarning: IProgress not found. Please update jupyter and ipywidgets. See https://ipywidgets.readthedocs.io/en/stable/user_install.html\n",
      "  from .autonotebook import tqdm as notebook_tqdm\n"
     ]
    }
   ],
   "source": [
    "from ontolearn.concept_learner import NCES\n",
    "from ontolearn.knowledge_base import KnowledgeBase\n",
    "from ontolearn.learning_problem import PosNegLPStandard\n",
    "from owlapy.parser import DLSyntaxParser\n",
    "from owlapy.render import DLSyntaxObjectRenderer\n",
    "import sys\n",
    "sys.path.append(\"examples/\")\n",
    "from ontolearn.metrics import F1\n",
    "from quality_functions import quality\n",
    "import time\n",
    "import random"
   ]
  },
  {
   "cell_type": "code",
   "execution_count": 2,
   "id": "functional-messaging",
   "metadata": {},
   "outputs": [
    {
     "name": "stdout",
     "output_type": "stream",
     "text": [
      "\n",
      " Loaded NCES weights!\n",
      "\n"
     ]
    }
   ],
   "source": [
    "nces = NCES(knowledge_base_path=\"../NCESData/family/family.owl\", quality_func=F1(), num_predictions=100, learner_names=[\"SetTransformer\"],\n",
    "     path_of_embeddings=\"../NCESData/family/embeddings/ConEx_entity_embeddings.csv\", load_pretrained=True, max_length=48, proj_dim=128, rnn_n_layers=2, drop_prob=0.1, num_heads=4, num_seeds=1, num_inds=32)"
   ]
  },
  {
   "cell_type": "code",
   "execution_count": 3,
   "id": "meaningful-hindu",
   "metadata": {},
   "outputs": [],
   "source": [
    "KB = KnowledgeBase(path=nces.knowledge_base_path)"
   ]
  },
  {
   "cell_type": "code",
   "execution_count": 4,
   "id": "divine-denial",
   "metadata": {},
   "outputs": [],
   "source": [
    "dl_syntax_renderer = DLSyntaxObjectRenderer()"
   ]
  },
  {
   "cell_type": "code",
   "execution_count": 5,
   "id": "written-threshold",
   "metadata": {},
   "outputs": [],
   "source": [
    "atomic_classes = [dl_syntax_renderer.render(a) for a in KB.ontology.classes_in_signature()]"
   ]
  },
  {
   "cell_type": "code",
   "execution_count": 6,
   "id": "pleasant-hebrew",
   "metadata": {},
   "outputs": [
    {
     "data": {
      "text/plain": [
       "['Brother',\n",
       " 'Male',\n",
       " 'PersonWithASibling',\n",
       " 'Child',\n",
       " 'Person',\n",
       " 'Daughter',\n",
       " 'Female',\n",
       " 'Father',\n",
       " 'Parent',\n",
       " 'Grandchild',\n",
       " 'Granddaughter',\n",
       " 'Grandfather',\n",
       " 'Grandparent',\n",
       " 'Grandmother',\n",
       " 'Grandson',\n",
       " 'Mother',\n",
       " 'Sister',\n",
       " 'Son']"
      ]
     },
     "execution_count": 6,
     "metadata": {},
     "output_type": "execute_result"
    }
   ],
   "source": [
    "atomic_classes"
   ]
  },
  {
   "cell_type": "code",
   "execution_count": 7,
   "id": "lovely-confusion",
   "metadata": {},
   "outputs": [],
   "source": [
    "dl_parser = DLSyntaxParser(nces.kb_namespace)"
   ]
  },
  {
   "cell_type": "code",
   "execution_count": 8,
   "id": "false-solution",
   "metadata": {},
   "outputs": [],
   "source": [
    "brother = dl_parser.parse('Brother')\n",
    "daughter = dl_parser.parse('Daughter')"
   ]
  },
  {
   "cell_type": "markdown",
   "id": "rolled-thursday",
   "metadata": {},
   "source": [
    "#### Input examples can be sets or lists"
   ]
  },
  {
   "cell_type": "code",
   "execution_count": 9,
   "id": "ahead-threshold",
   "metadata": {},
   "outputs": [],
   "source": [
    "pos = set(KB.individuals(brother)).union(set(KB.individuals(daughter)))"
   ]
  },
  {
   "cell_type": "code",
   "execution_count": 10,
   "id": "serial-music",
   "metadata": {},
   "outputs": [],
   "source": [
    "neg = set(KB.individuals())-set(pos)"
   ]
  },
  {
   "cell_type": "code",
   "execution_count": 11,
   "id": "raised-royalty",
   "metadata": {},
   "outputs": [
    {
     "data": {
      "text/plain": [
       "120"
      ]
     },
     "execution_count": 11,
     "metadata": {},
     "output_type": "execute_result"
    }
   ],
   "source": [
    "len(neg)"
   ]
  },
  {
   "cell_type": "code",
   "execution_count": 12,
   "id": "solid-syndicate",
   "metadata": {},
   "outputs": [],
   "source": [
    "lp = PosNegLPStandard(pos=pos, neg=neg)"
   ]
  },
  {
   "cell_type": "markdown",
   "id": "failing-disclaimer",
   "metadata": {},
   "source": [
    "#### Prediction with SetTransformer (default model)"
   ]
  },
  {
   "cell_type": "code",
   "execution_count": 13,
   "id": "bound-decline",
   "metadata": {},
   "outputs": [
    {
     "name": "stdout",
     "output_type": "stream",
     "text": [
      "\n",
      "Duration:  0.48354291915893555  seconds\n"
     ]
    }
   ],
   "source": [
    "t0 = time.time()\n",
    "node = list(nces.fit(lp).best_predictions)[0]\n",
    "t1 = time.time()\n",
    "print(\"\\nDuration: \", t1-t0, \" seconds\")"
   ]
  },
  {
   "cell_type": "code",
   "execution_count": 14,
   "id": "current-haven",
   "metadata": {},
   "outputs": [
    {
     "data": {
      "text/plain": [
       "82"
      ]
     },
     "execution_count": 14,
     "metadata": {},
     "output_type": "execute_result"
    }
   ],
   "source": [
    "len(set(KB.individuals(node.concept)))"
   ]
  },
  {
   "cell_type": "code",
   "execution_count": 15,
   "id": "lasting-stage",
   "metadata": {},
   "outputs": [
    {
     "data": {
      "text/plain": [
       "<class 'ontolearn.search.NCESNode'> at 0x75f30ec\tBrother ⊔ (Person ⊓ (Daughter ⊔ (∃ hasSibling.Granddaughter)))\tQuality:1.0\tLength:9\t|Indv.|:82"
      ]
     },
     "execution_count": 15,
     "metadata": {},
     "output_type": "execute_result"
    }
   ],
   "source": [
    "node"
   ]
  },
  {
   "cell_type": "code",
   "execution_count": 16,
   "id": "sweet-standing",
   "metadata": {},
   "outputs": [
    {
     "name": "stdout",
     "output_type": "stream",
     "text": [
      "Accuracy: 100.0%\n",
      "Precision: 100.0%\n",
      "Recall: 100.0%\n",
      "F1: 100.0%\n"
     ]
    },
    {
     "data": {
      "text/plain": [
       "(100.0, 100.0, 100.0, 100.0)"
      ]
     },
     "execution_count": 16,
     "metadata": {},
     "output_type": "execute_result"
    }
   ],
   "source": [
    "quality(KB, node.concept, pos, neg)"
   ]
  },
  {
   "cell_type": "markdown",
   "id": "three-polymer",
   "metadata": {},
   "source": [
    "### Ensemble prediction"
   ]
  },
  {
   "cell_type": "code",
   "execution_count": 17,
   "id": "informal-poetry",
   "metadata": {},
   "outputs": [
    {
     "name": "stdout",
     "output_type": "stream",
     "text": [
      "\n",
      " Loaded NCES weights!\n",
      "\n",
      "\n",
      "Duration:  0.4260680675506592  seconds\n"
     ]
    }
   ],
   "source": [
    "nces.learner_names = ['SetTransformer','GRU','LSTM']\n",
    "nces.refresh() # Loads model weights\n",
    "t0 = time.time()\n",
    "node = list(nces.fit(lp).best_predictions)[0]\n",
    "t1 = time.time()\n",
    "print(\"\\nDuration: \", t1-t0, \" seconds\")"
   ]
  },
  {
   "cell_type": "code",
   "execution_count": 18,
   "id": "least-tribe",
   "metadata": {},
   "outputs": [
    {
     "name": "stdout",
     "output_type": "stream",
     "text": [
      "Accuracy: 100.0%\n",
      "Precision: 100.0%\n",
      "Recall: 100.0%\n",
      "F1: 100.0%\n"
     ]
    },
    {
     "data": {
      "text/plain": [
       "(100.0, 100.0, 100.0, 100.0)"
      ]
     },
     "execution_count": 18,
     "metadata": {},
     "output_type": "execute_result"
    }
   ],
   "source": [
    "quality(KB, node.concept, pos, neg)"
   ]
  },
  {
   "cell_type": "code",
   "execution_count": 19,
   "id": "surrounded-roller",
   "metadata": {},
   "outputs": [
    {
     "data": {
      "text/plain": [
       "<class 'ontolearn.search.NCESNode'> at 0xa840520\tBrother ⊔ Daughter ⊔ Daughter\tQuality:1.0\tLength:5\t|Indv.|:82"
      ]
     },
     "execution_count": 19,
     "metadata": {},
     "output_type": "execute_result"
    }
   ],
   "source": [
    "node"
   ]
  },
  {
   "cell_type": "code",
   "execution_count": 20,
   "id": "medieval-advance",
   "metadata": {},
   "outputs": [
    {
     "data": {
      "text/plain": [
       "[<class 'ontolearn.search.NCESNode'> at 0xa840520\tBrother ⊔ Daughter ⊔ Daughter\tQuality:1.0\tLength:5\t|Indv.|:82,\n",
       " <class 'ontolearn.search.NCESNode'> at 0x7c63c78\tPersonWithASibling ⊔ Daughter\tQuality:1.0\tLength:3\t|Indv.|:82,\n",
       " <class 'ontolearn.search.NCESNode'> at 0x7c63c58\tBrother ⊔ Daughter\tQuality:1.0\tLength:3\t|Indv.|:82,\n",
       " <class 'ontolearn.search.NCESNode'> at 0x7c5ea34\tBrother ⊔ Daughter\tQuality:1.0\tLength:3\t|Indv.|:82,\n",
       " <class 'ontolearn.search.NCESNode'> at 0x7c5ea74\tPersonWithASibling ⊔ Daughter\tQuality:1.0\tLength:3\t|Indv.|:82]"
      ]
     },
     "execution_count": 20,
     "metadata": {},
     "output_type": "execute_result"
    }
   ],
   "source": [
    "nces.best_predictions[:5]"
   ]
  },
  {
   "cell_type": "markdown",
   "id": "conditional-dependence",
   "metadata": {},
   "source": [
    "### Complex learning problems, potentially without an exact solution"
   ]
  },
  {
   "cell_type": "markdown",
   "id": "fluid-crawford",
   "metadata": {},
   "source": [
    "#### First learning problem"
   ]
  },
  {
   "cell_type": "code",
   "execution_count": 21,
   "id": "revised-major",
   "metadata": {},
   "outputs": [],
   "source": [
    "all_individuals = set(KB.individuals())\n",
    "pos = set(random.sample(list(all_individuals), 150))\n",
    "remaining = all_individuals-pos\n",
    "neg = set(random.sample(list(remaining), min(100, len(remaining))))"
   ]
  },
  {
   "cell_type": "code",
   "execution_count": 22,
   "id": "developmental-tender",
   "metadata": {},
   "outputs": [],
   "source": [
    "lp = PosNegLPStandard(pos=pos, neg=neg)"
   ]
  },
  {
   "cell_type": "code",
   "execution_count": 23,
   "id": "failing-patrick",
   "metadata": {},
   "outputs": [
    {
     "data": {
      "text/plain": [
       "['SetTransformer', 'GRU', 'LSTM']"
      ]
     },
     "execution_count": 23,
     "metadata": {},
     "output_type": "execute_result"
    }
   ],
   "source": [
    "nces.learner_names"
   ]
  },
  {
   "cell_type": "code",
   "execution_count": 24,
   "id": "balanced-linux",
   "metadata": {},
   "outputs": [
    {
     "name": "stdout",
     "output_type": "stream",
     "text": [
      "\n",
      "Duration:  0.3714330196380615  seconds\n"
     ]
    }
   ],
   "source": [
    "t0 = time.time()\n",
    "node = list(nces.fit(lp).best_predictions)[0]\n",
    "t1 = time.time()\n",
    "print(\"\\nDuration: \", t1-t0, \" seconds\")"
   ]
  },
  {
   "cell_type": "code",
   "execution_count": 25,
   "id": "constitutional-lindsay",
   "metadata": {},
   "outputs": [
    {
     "data": {
      "text/plain": [
       "<class 'ontolearn.search.NCESNode'> at 0x75f5058\tPerson ⊔ Child\tQuality:0.85227\tLength:3\t|Indv.|:202"
      ]
     },
     "execution_count": 25,
     "metadata": {},
     "output_type": "execute_result"
    }
   ],
   "source": [
    "node"
   ]
  },
  {
   "cell_type": "code",
   "execution_count": 26,
   "id": "legal-broadcasting",
   "metadata": {},
   "outputs": [
    {
     "name": "stdout",
     "output_type": "stream",
     "text": [
      "Accuracy: 74.25699999999999%\n",
      "Precision: 74.25699999999999%\n",
      "Recall: 100.0%\n",
      "F1: 85.227%\n"
     ]
    },
    {
     "data": {
      "text/plain": [
       "(74.25699999999999, 74.25699999999999, 100.0, 85.227)"
      ]
     },
     "execution_count": 26,
     "metadata": {},
     "output_type": "execute_result"
    }
   ],
   "source": [
    "quality(KB, node.concept, pos, neg)"
   ]
  },
  {
   "cell_type": "markdown",
   "id": "ambient-percentage",
   "metadata": {},
   "source": [
    "#### Second learning problem"
   ]
  },
  {
   "cell_type": "code",
   "execution_count": 27,
   "id": "speaking-plain",
   "metadata": {},
   "outputs": [],
   "source": [
    "pos = set(random.sample(list(all_individuals), 80))\n",
    "remaining = all_individuals-pos\n",
    "neg = set(random.sample(list(remaining), min(150, len(remaining))))"
   ]
  },
  {
   "cell_type": "code",
   "execution_count": 28,
   "id": "upper-oasis",
   "metadata": {},
   "outputs": [],
   "source": [
    "lp = PosNegLPStandard(pos=pos, neg=neg)"
   ]
  },
  {
   "cell_type": "code",
   "execution_count": 29,
   "id": "weekly-desperate",
   "metadata": {},
   "outputs": [
    {
     "name": "stdout",
     "output_type": "stream",
     "text": [
      "\n",
      "Duration:  0.37883949279785156  seconds\n"
     ]
    }
   ],
   "source": [
    "t0 = time.time()\n",
    "node = list(nces.fit(lp).best_predictions)[0]\n",
    "t1 = time.time()\n",
    "print(\"\\nDuration: \", t1-t0, \" seconds\")"
   ]
  },
  {
   "cell_type": "code",
   "execution_count": 30,
   "id": "fallen-programming",
   "metadata": {},
   "outputs": [
    {
     "name": "stdout",
     "output_type": "stream",
     "text": [
      "Accuracy: 39.604%\n",
      "Precision: 39.604%\n",
      "Recall: 100.0%\n",
      "F1: 56.738%\n"
     ]
    },
    {
     "data": {
      "text/plain": [
       "(39.604, 39.604, 100.0, 56.738)"
      ]
     },
     "execution_count": 30,
     "metadata": {},
     "output_type": "execute_result"
    }
   ],
   "source": [
    "quality(KB, node.concept, pos, neg)"
   ]
  },
  {
   "cell_type": "code",
   "execution_count": null,
   "id": "administrative-karen",
   "metadata": {},
   "outputs": [],
   "source": []
  },
  {
   "cell_type": "markdown",
   "id": "personal-basketball",
   "metadata": {},
   "source": [
    "## Important note\n",
    "\n",
    "- Each of the synthesized expressions are not present in the knowledge base.\n",
    "- NCES synthesizes solutions by leveraging its experience on the training data.\n",
    "- The inputs (positive/negative examples) need not be balanced\n",
    "- NCES can solve multiple learning problems at the same time (through broadcasting on matrix operations in its neural network component), see nces_notebook1.ipynb\n",
    "- Since LSTM and GRU are not permutation-equivariant, we can get different but closely related solutions by shuflling the input examples for these architectures. For this, one needs to instantiate the NCES class with the attribute \"sorted_examples=False\" which is the case by default."
   ]
  },
  {
   "cell_type": "code",
   "execution_count": null,
   "id": "atomic-crime",
   "metadata": {},
   "outputs": [],
   "source": []
  }
 ],
 "metadata": {
  "kernelspec": {
   "display_name": "onto_env",
   "language": "python",
   "name": "onto_env"
  },
  "language_info": {
   "codemirror_mode": {
    "name": "ipython",
    "version": 3
   },
   "file_extension": ".py",
   "mimetype": "text/x-python",
   "name": "python",
   "nbconvert_exporter": "python",
   "pygments_lexer": "ipython3",
   "version": "3.10.14"
  }
 },
 "nbformat": 4,
 "nbformat_minor": 5
}
