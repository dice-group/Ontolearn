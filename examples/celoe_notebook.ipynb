{
 "cells": [
  {
   "attachments": {},
   "cell_type": "markdown",
   "id": "blond-letter",
   "metadata": {},
   "source": [
    "# CELOE Notebook\n",
    "This is a jupyter notebook file to execute [CELOE](ontolearn.concept_learner.CELOE) and generate predictive results. We recommend you to see the [concept learners](../docs/usage/06_concept_learners.md) guide before continuing with the execution.\n",
    "Also if you have not done it already, from the main directory \"Ontolearn\", run the commands for Datasets mentioned [here](https://ontolearn-docs-dice-group.netlify.app/usage/02_installation#download-external-files) to download the datasets."
   ]
  },
  {
   "cell_type": "code",
   "execution_count": 2,
   "id": "japanese-ivory",
   "metadata": {},
   "outputs": [],
   "source": [
    "import json\n",
    "from ontolearn.knowledge_base import KnowledgeBase\n",
    "from ontolearn.concept_learner import CELOE\n",
    "from ontolearn.learning_problem import PosNegLPStandard\n",
    "from owlapy.owl_individual import OWLNamedIndividual, IRI\n",
    "from ontolearn.utils import setup_logging\n"
   ]
  },
  {
   "attachments": {},
   "cell_type": "markdown",
   "id": "pending-coast",
   "metadata": {},
   "source": [
    "Open `uncle_lp.json` where we have stored the learning problem for the concept of 'Uncle' and the path to the 'family' ontology."
   ]
  },
  {
   "cell_type": "code",
   "execution_count": 2,
   "id": "beginning-syntax",
   "metadata": {},
   "outputs": [],
   "source": [
    "with open('uncle_lp.json') as json_file:\n",
    "    settings = json.load(json_file)"
   ]
  },
  {
   "attachments": {},
   "cell_type": "markdown",
   "id": "humanitarian-heating",
   "metadata": {},
   "source": [
    "Create an instance of the class `KnowledeBase` by using the path that is stored in `settings`."
   ]
  },
  {
   "cell_type": "code",
   "execution_count": 3,
   "id": "caroline-indiana",
   "metadata": {},
   "outputs": [],
   "source": [
    "kb = KnowledgeBase(path=settings['data_path'])"
   ]
  },
  {
   "attachments": {},
   "cell_type": "markdown",
   "id": "lucky-activation",
   "metadata": {},
   "source": [
    "Retreive the IRIs of the positive and negative examples of Uncle from `settings` and create an instance of `PosNegLPStandard`. (more info about this [here](../docs/usage/06_concept_learners.md#configure-the-learning-problem))"
   ]
  },
  {
   "cell_type": "code",
   "execution_count": 4,
   "id": "processed-patrick",
   "metadata": {},
   "outputs": [],
   "source": [
    "examples = settings['Uncle']\n",
    "p = set(examples['positive_examples'])\n",
    "n = set(examples['negative_examples'])\n",
    "typed_pos = set(map(OWLNamedIndividual, map(IRI.create, p)))\n",
    "typed_neg = set(map(OWLNamedIndividual, map(IRI.create, n)))\n",
    "lp = PosNegLPStandard(pos=typed_pos, neg=typed_neg)"
   ]
  },
  {
   "attachments": {},
   "cell_type": "markdown",
   "id": "mechanical-latin",
   "metadata": {},
   "source": [
    "Create a model of [CELOE](ontolearn.concept_learner.CELOE) and fit the learning problem to the model."
   ]
  },
  {
   "cell_type": "code",
   "execution_count": 8,
   "id": "binding-moderator",
   "metadata": {},
   "outputs": [
    {
     "data": {
      "text/plain": [
       "<ontolearn.concept_learner.CELOE at 0x210f0224ac0>"
      ]
     },
     "execution_count": 8,
     "metadata": {},
     "output_type": "execute_result"
    }
   ],
   "source": [
    "model = CELOE(knowledge_base=kb, max_runtime=600)\n",
    "model.fit(lp)"
   ]
  },
  {
   "attachments": {},
   "cell_type": "markdown",
   "id": "lesser-cover",
   "metadata": {},
   "source": [
    "Retrieve top 3 hypotheses and print them."
   ]
  },
  {
   "cell_type": "code",
   "execution_count": 6,
   "id": "departmental-international",
   "metadata": {},
   "outputs": [
    {
     "name": "stdout",
     "output_type": "stream",
     "text": [
      "<class 'ontolearn.search.OENode'> at 0xdecf19\t(¬Female) ⊓ (∀ hasParent.Grandparent)\tQuality:0.90476\tHeuristic:0.20607\tDepth:8\tH_exp:8\t|RC|:5\t|Indv.|:None\n",
      "<class 'ontolearn.search.OENode'> at 0xdecf82\t(¬Female) ⊓ (∀ hasChild.Grandchild)\tQuality:0.90476\tHeuristic:0.20607\tDepth:8\tH_exp:8\t|RC|:5\t|Indv.|:None\n",
      "<class 'ontolearn.search.OENode'> at 0xe73bcf\t(¬Female) ⊓ (∀ hasParent⁻.Grandchild)\tQuality:0.90476\tHeuristic:0.20607\tDepth:8\tH_exp:8\t|RC|:5\t|Indv.|:None\n"
     ]
    },
    {
     "data": {
      "text/plain": [
       "[None, None, None]"
      ]
     },
     "execution_count": 6,
     "metadata": {},
     "output_type": "execute_result"
    }
   ],
   "source": [
    "hypotheses = list(model.best_hypotheses(n=3))\n",
    "[print(_) for _ in hypotheses]"
   ]
  }
 ],
 "metadata": {
  "kernelspec": {
   "display_name": "Python 3",
   "language": "python",
   "name": "python3"
  },
  "language_info": {
   "codemirror_mode": {
    "name": "ipython",
    "version": 3
   },
   "file_extension": ".py",
   "mimetype": "text/x-python",
   "name": "python",
   "nbconvert_exporter": "python",
   "pygments_lexer": "ipython3",
   "version": "3.8.10"
  }
 },
 "nbformat": 4,
 "nbformat_minor": 5
}
