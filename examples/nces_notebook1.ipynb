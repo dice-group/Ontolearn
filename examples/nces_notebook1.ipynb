{
 "cells": [
  {
   "cell_type": "markdown",
   "id": "assured-bible",
   "metadata": {},
   "source": [
    "From the main directory \"Ontolearn\", run the commands for NCES data mentioned [here](https://ontolearn-docs-dice-group.netlify.app/usage/02_installation#download-external-files) to download pretrained models and datasets."
   ]
  },
  {
   "cell_type": "markdown",
   "id": "pleasant-transaction",
   "metadata": {},
   "source": [
    "## Inference with NCES"
   ]
  },
  {
   "cell_type": "code",
   "execution_count": 1,
   "id": "romantic-valley",
   "metadata": {},
   "outputs": [
    {
     "name": "stderr",
     "output_type": "stream",
     "text": [
      "/opt/conda/envs/onto_env/lib/python3.10/site-packages/tqdm/auto.py:21: TqdmWarning: IProgress not found. Please update jupyter and ipywidgets. See https://ipywidgets.readthedocs.io/en/stable/user_install.html\n",
      "  from .autonotebook import tqdm as notebook_tqdm\n"
     ]
    }
   ],
   "source": [
    "from ontolearn.concept_learner import NCES\n",
    "from ontolearn.learning_problem import PosNegLPStandard\n",
    "from ontolearn.knowledge_base import KnowledgeBase\n",
    "from ontolearn.metrics import F1\n",
    "from owlapy.parser import DLSyntaxParser"
   ]
  },
  {
   "cell_type": "code",
   "execution_count": 2,
   "id": "streaming-payday",
   "metadata": {},
   "outputs": [
    {
     "name": "stdout",
     "output_type": "stream",
     "text": [
      "\n",
      " Loaded NCES weights!\n",
      "\n"
     ]
    }
   ],
   "source": [
    "nces = NCES(knowledge_base_path=\"../NCESData/family/family.owl\", quality_func=F1(), num_predictions=100, learner_names=[\"SetTransformer\"],\n",
    "     path_of_embeddings=\"../NCESData/family/embeddings/ConEx_entity_embeddings.csv\", load_pretrained=True, max_length=48, proj_dim=128, rnn_n_layers=2, drop_prob=0.1, num_heads=4, num_seeds=1, num_inds=32)"
   ]
  },
  {
   "cell_type": "code",
   "execution_count": 3,
   "id": "fifth-sampling",
   "metadata": {},
   "outputs": [],
   "source": [
    "KB = KnowledgeBase(path=nces.knowledge_base_path)"
   ]
  },
  {
   "cell_type": "code",
   "execution_count": 4,
   "id": "compatible-mexico",
   "metadata": {},
   "outputs": [],
   "source": [
    "dl_parser = DLSyntaxParser(nces.kb_namespace)"
   ]
  },
  {
   "cell_type": "markdown",
   "id": "durable-venice",
   "metadata": {},
   "source": [
    "### Let's learn the concept ``Father''"
   ]
  },
  {
   "cell_type": "code",
   "execution_count": 5,
   "id": "eleven-director",
   "metadata": {},
   "outputs": [],
   "source": [
    "father = dl_parser.parse('Father')"
   ]
  },
  {
   "cell_type": "code",
   "execution_count": 6,
   "id": "graphic-context",
   "metadata": {},
   "outputs": [],
   "source": [
    "not_father = dl_parser.parse('¬Father') # For negative examples"
   ]
  },
  {
   "cell_type": "code",
   "execution_count": 7,
   "id": "hollow-consultancy",
   "metadata": {},
   "outputs": [],
   "source": [
    "pos = set([ind.str.split(\"/\")[-1] for ind in KB.individuals(father)])"
   ]
  },
  {
   "cell_type": "code",
   "execution_count": 8,
   "id": "subjective-occurrence",
   "metadata": {},
   "outputs": [],
   "source": [
    "neg = set([ind.str.split(\"/\")[-1] for ind in KB.individuals(not_father)])"
   ]
  },
  {
   "cell_type": "markdown",
   "id": "interstate-center",
   "metadata": {},
   "source": [
    "#### Prediction with SetTransformer"
   ]
  },
  {
   "cell_type": "code",
   "execution_count": 9,
   "id": "becoming-python",
   "metadata": {},
   "outputs": [],
   "source": [
    "lp = PosNegLPStandard(pos=pos, neg=neg)\n",
    "nodes = nces.fit(lp).best_hypotheses(3)"
   ]
  },
  {
   "cell_type": "code",
   "execution_count": 10,
   "id": "fabulous-preliminary",
   "metadata": {},
   "outputs": [
    {
     "data": {
      "text/plain": [
       "[OWLObjectIntersectionOf((OWLClass(IRI('http://www.benchmark.org/family#','Father')), OWLObjectUnionOf((OWLClass(IRI('http://www.benchmark.org/family#','Father')), OWLObjectSomeValuesFrom(property=OWLObjectProperty(IRI('http://www.benchmark.org/family#','hasParent')),filler=OWLClass(IRI('http://www.benchmark.org/family#','PersonWithASibling'))))), OWLObjectAllValuesFrom(property=OWLObjectProperty(IRI('http://www.benchmark.org/family#','hasParent')),filler=OWLClass(IRI('http://www.w3.org/2002/07/owl#','Thing'))))),\n",
       " OWLObjectUnionOf((OWLClass(IRI('http://www.benchmark.org/family#','Father')), OWLClass(IRI('http://www.benchmark.org/family#','Father')), OWLClass(IRI('http://www.benchmark.org/family#','Grandfather')), OWLClass(IRI('http://www.benchmark.org/family#','Grandfather')))),\n",
       " OWLClass(IRI('http://www.benchmark.org/family#','Father'))]"
      ]
     },
     "execution_count": 10,
     "metadata": {},
     "output_type": "execute_result"
    }
   ],
   "source": [
    "nodes"
   ]
  },
  {
   "cell_type": "code",
   "execution_count": 11,
   "id": "harmful-consumer",
   "metadata": {},
   "outputs": [
    {
     "data": {
      "text/plain": [
       "False"
      ]
     },
     "execution_count": 11,
     "metadata": {},
     "output_type": "execute_result"
    }
   ],
   "source": [
    "nces.sorted_examples"
   ]
  },
  {
   "cell_type": "markdown",
   "id": "filled-canvas",
   "metadata": {},
   "source": [
    "#### Prediction with GRU"
   ]
  },
  {
   "cell_type": "code",
   "execution_count": 12,
   "id": "necessary-illinois",
   "metadata": {},
   "outputs": [
    {
     "name": "stdout",
     "output_type": "stream",
     "text": [
      "\n",
      " Loaded NCES weights!\n",
      "\n"
     ]
    }
   ],
   "source": [
    "nces.learner_names = ['GRU']\n",
    "nces.refresh()\n",
    "nodes = list(nces.fit(lp).best_predictions)"
   ]
  },
  {
   "cell_type": "code",
   "execution_count": 13,
   "id": "gothic-listing",
   "metadata": {},
   "outputs": [
    {
     "data": {
      "text/plain": [
       "[<class 'ontolearn.search.NCESNode'> at 0x69d8928\tFather ⊔ Father\tQuality:1.0\tLength:3\t|Indv.|:60,\n",
       " <class 'ontolearn.search.NCESNode'> at 0x70389f8\tFather\tQuality:1.0\tLength:1\t|Indv.|:60,\n",
       " <class 'ontolearn.search.NCESNode'> at 0x7038a54\tFather ⊔ Father\tQuality:1.0\tLength:3\t|Indv.|:60,\n",
       " <class 'ontolearn.search.NCESNode'> at 0x69d8884\tGrandfather ⊔ Father\tQuality:1.0\tLength:3\t|Indv.|:60,\n",
       " <class 'ontolearn.search.NCESNode'> at 0x69db160\tFather ⊔ Grandfather\tQuality:1.0\tLength:3\t|Indv.|:60]"
      ]
     },
     "execution_count": 13,
     "metadata": {},
     "output_type": "execute_result"
    }
   ],
   "source": [
    "nodes[:5]"
   ]
  },
  {
   "cell_type": "markdown",
   "id": "bizarre-practice",
   "metadata": {},
   "source": [
    "#### Prediction with LSTM"
   ]
  },
  {
   "cell_type": "code",
   "execution_count": 14,
   "id": "certain-corner",
   "metadata": {},
   "outputs": [
    {
     "name": "stdout",
     "output_type": "stream",
     "text": [
      "\n",
      " Loaded NCES weights!\n",
      "\n"
     ]
    }
   ],
   "source": [
    "nces.learner_names = ['LSTM']\n",
    "nces.refresh()\n",
    "nodes = list(nces.fit(lp).best_predictions)"
   ]
  },
  {
   "cell_type": "code",
   "execution_count": 15,
   "id": "renewable-virgin",
   "metadata": {},
   "outputs": [
    {
     "data": {
      "text/plain": [
       "[<class 'ontolearn.search.NCESNode'> at 0x69da730\tFather\tQuality:1.0\tLength:1\t|Indv.|:60,\n",
       " <class 'ontolearn.search.NCESNode'> at 0x7035258\tMale ⊓ (∃ hasChild.(Female ⊔ (∃ hasParent.(¬Daughter))))\tQuality:1.0\tLength:10\t|Indv.|:60,\n",
       " <class 'ontolearn.search.NCESNode'> at 0x69bcd10\tFather ⊓ (Father ⊓ (Male ⊔ (∃ hasSibling.(¬Grandfather))))\tQuality:1.0\tLength:10\t|Indv.|:60,\n",
       " <class 'ontolearn.search.NCESNode'> at 0x69d93b0\tFather ⊔ Father\tQuality:1.0\tLength:3\t|Indv.|:60,\n",
       " <class 'ontolearn.search.NCESNode'> at 0x7038a78\tFather ⊔ Father\tQuality:1.0\tLength:3\t|Indv.|:60]"
      ]
     },
     "execution_count": 15,
     "metadata": {},
     "output_type": "execute_result"
    }
   ],
   "source": [
    "nodes[:5]"
   ]
  },
  {
   "cell_type": "markdown",
   "id": "public-cement",
   "metadata": {},
   "source": [
    "#### Prediction with ensemble SetTransformer+GRU+LSTM"
   ]
  },
  {
   "cell_type": "code",
   "execution_count": 16,
   "id": "upset-toyota",
   "metadata": {},
   "outputs": [
    {
     "name": "stdout",
     "output_type": "stream",
     "text": [
      "\n",
      " Loaded NCES weights!\n",
      "\n"
     ]
    }
   ],
   "source": [
    "nces.learner_names = ['SetTransformer','GRU','LSTM']\n",
    "nces.refresh() # Load model weights\n",
    "nodes = list(nces.fit(lp).best_predictions)"
   ]
  },
  {
   "cell_type": "code",
   "execution_count": 17,
   "id": "polyphonic-kansas",
   "metadata": {},
   "outputs": [
    {
     "data": {
      "text/plain": [
       "[<class 'ontolearn.search.NCESNode'> at 0x69d8970\tFather ⊔ Grandfather\tQuality:1.0\tLength:3\t|Indv.|:60,\n",
       " <class 'ontolearn.search.NCESNode'> at 0x69d889c\tFather ⊔ Grandfather\tQuality:1.0\tLength:3\t|Indv.|:60,\n",
       " <class 'ontolearn.search.NCESNode'> at 0x702cc18\tFather\tQuality:1.0\tLength:1\t|Indv.|:60,\n",
       " <class 'ontolearn.search.NCESNode'> at 0x69d7358\tFather ⊔ Father\tQuality:1.0\tLength:3\t|Indv.|:60,\n",
       " <class 'ontolearn.search.NCESNode'> at 0x69d7274\tFather\tQuality:1.0\tLength:1\t|Indv.|:60]"
      ]
     },
     "execution_count": 17,
     "metadata": {},
     "output_type": "execute_result"
    }
   ],
   "source": [
    "nodes[:5]"
   ]
  },
  {
   "cell_type": "markdown",
   "id": "silent-authorization",
   "metadata": {},
   "source": [
    "### Scalability of NCES (solving multiple learning problems in a go!)"
   ]
  },
  {
   "cell_type": "code",
   "execution_count": 18,
   "id": "textile-wildlife",
   "metadata": {},
   "outputs": [],
   "source": [
    "import json, time"
   ]
  },
  {
   "cell_type": "code",
   "execution_count": 19,
   "id": "subjective-columbia",
   "metadata": {},
   "outputs": [],
   "source": [
    "with open(\"../NCESData/family/training_data/Data.json\") as file:\n",
    "    data = list(json.load(file).items())\n",
    "## The function below takes an iterable of tuples\n",
    "LPs = list(map(lambda x: (x[0], x[1][\"positive examples\"], x[1][\"negative examples\"]), data))"
   ]
  },
  {
   "cell_type": "code",
   "execution_count": 20,
   "id": "cathedral-gibson",
   "metadata": {},
   "outputs": [],
   "source": [
    "## We solve 256 learning problems!\n",
    "lps = LPs[:256]"
   ]
  },
  {
   "cell_type": "code",
   "execution_count": 21,
   "id": "improved-pickup",
   "metadata": {},
   "outputs": [
    {
     "name": "stdout",
     "output_type": "stream",
     "text": [
      "Duration:  0.46558618545532227 seconds!\n"
     ]
    }
   ],
   "source": [
    "t0 = time.time()\n",
    "concepts = nces.fit_from_iterable(lps, verbose=False) ## Now predict with nces.fit_from_iterable.\n",
    "t1 = time.time()\n",
    "print(\"Duration: \", t1-t0, \"seconds!\")"
   ]
  },
  {
   "cell_type": "code",
   "execution_count": 22,
   "id": "filled-sunglasses",
   "metadata": {},
   "outputs": [
    {
     "name": "stdout",
     "output_type": "stream",
     "text": [
      "OWLClass(IRI('http://www.benchmark.org/family#','Sister'))\n"
     ]
    }
   ],
   "source": [
    "print(concepts[0])"
   ]
  },
  {
   "cell_type": "code",
   "execution_count": 23,
   "id": "killing-conspiracy",
   "metadata": {},
   "outputs": [
    {
     "name": "stdout",
     "output_type": "stream",
     "text": [
      "256\n"
     ]
    }
   ],
   "source": [
    "print(len(concepts))"
   ]
  },
  {
   "cell_type": "markdown",
   "id": "august-classics",
   "metadata": {},
   "source": [
    "### Change pretrained model name, e.g., use ensemble model prediction"
   ]
  },
  {
   "cell_type": "code",
   "execution_count": 24,
   "id": "portuguese-thinking",
   "metadata": {},
   "outputs": [],
   "source": [
    "nces.learner_names = ['SetTransformer', 'GRU']"
   ]
  },
  {
   "cell_type": "code",
   "execution_count": 25,
   "id": "instant-hearts",
   "metadata": {},
   "outputs": [
    {
     "data": {
      "text/plain": [
       "['SetTransformer', 'GRU']"
      ]
     },
     "execution_count": 25,
     "metadata": {},
     "output_type": "execute_result"
    }
   ],
   "source": [
    "nces.learner_names"
   ]
  },
  {
   "cell_type": "code",
   "execution_count": 26,
   "id": "several-bailey",
   "metadata": {},
   "outputs": [
    {
     "name": "stdout",
     "output_type": "stream",
     "text": [
      "\n",
      " Loaded NCES weights!\n",
      "\n"
     ]
    }
   ],
   "source": [
    "nces.refresh()"
   ]
  },
  {
   "cell_type": "code",
   "execution_count": 27,
   "id": "elementary-kitchen",
   "metadata": {},
   "outputs": [
    {
     "name": "stdout",
     "output_type": "stream",
     "text": [
      "Duration:  0.8283030986785889 seconds!\n"
     ]
    }
   ],
   "source": [
    "t0 = time.time()\n",
    "concepts = nces.fit_from_iterable(lps, verbose=False)\n",
    "t1 = time.time()\n",
    "print(\"Duration: \", t1-t0, \"seconds!\")"
   ]
  },
  {
   "cell_type": "code",
   "execution_count": 28,
   "id": "least-training",
   "metadata": {},
   "outputs": [
    {
     "data": {
      "text/plain": [
       "OWLObjectAllValuesFrom(property=OWLObjectProperty(IRI('http://www.benchmark.org/family#','married')),filler=OWLObjectComplementOf(OWLClass(IRI('http://www.benchmark.org/family#','PersonWithASibling'))))"
      ]
     },
     "execution_count": 28,
     "metadata": {},
     "output_type": "execute_result"
    }
   ],
   "source": [
    "concepts[-1]"
   ]
  },
  {
   "cell_type": "markdown",
   "id": "australian-layout",
   "metadata": {},
   "source": [
    "## Training NCES"
   ]
  },
  {
   "cell_type": "code",
   "execution_count": 29,
   "id": "constitutional-style",
   "metadata": {},
   "outputs": [],
   "source": [
    "import json, time\n",
    "with open(\"../NCESData/family/training_data/Data.json\") as file:\n",
    "    data = json.load(file) # Training data. Below we use the first 200 datapoints to train the synthesizer. You train on the full data, e.g. on GPU by remobing \"[:200]\""
   ]
  },
  {
   "cell_type": "code",
   "execution_count": 30,
   "id": "exterior-illinois",
   "metadata": {},
   "outputs": [],
   "source": [
    "from ontolearn.concept_learner import NCES"
   ]
  },
  {
   "cell_type": "code",
   "execution_count": 31,
   "id": "sticky-artist",
   "metadata": {},
   "outputs": [
    {
     "name": "stdout",
     "output_type": "stream",
     "text": [
      "!!!Returning untrained models, could not load pretrained. Check the `load_pretrained parameter` or train the models using NCES.train(data).\n"
     ]
    }
   ],
   "source": [
    "nces = NCES(knowledge_base_path=\"../NCESData/family/family.owl\", learner_names=[\"SetTransformer\"],\n",
    "     path_of_embeddings=\"../NCESData/family/embeddings/ConEx_entity_embeddings.csv\", max_length=48, proj_dim=128, rnn_n_layers=2, drop_prob=0.1, num_heads=4, num_seeds=1, num_inds=32,\n",
    "            load_pretrained=False)"
   ]
  },
  {
   "cell_type": "code",
   "execution_count": 32,
   "id": "general-adult",
   "metadata": {},
   "outputs": [
    {
     "name": "stdout",
     "output_type": "stream",
     "text": [
      "********************Trainable model size********************\n",
      "Synthesizer:  515296\n",
      "********************Trainable model size********************\n",
      "\n",
      "GPU available !\n",
      "\n",
      "##################################################\n",
      "\n",
      "SetTransformer starts training... \n",
      "\n",
      "################################################## \n",
      "\n"
     ]
    },
    {
     "name": "stderr",
     "output_type": "stream",
     "text": [
      "Loss: 0.4141, Soft Acc: 72.98%, Hard Acc: 72.07%: 100%|██████████| 20/20 [00:05<00:00,  3.43it/s]"
     ]
    },
    {
     "name": "stdout",
     "output_type": "stream",
     "text": [
      "Top performance: loss: 0.4141, soft accuracy: 77.84% ... hard accuracy: 76.40%\n",
      "\n",
      "SetTransformer saved\n"
     ]
    },
    {
     "name": "stderr",
     "output_type": "stream",
     "text": [
      "\n"
     ]
    }
   ],
   "source": [
    "nces.train(list(data.items())[-200:], epochs=20, learning_rate=0.001, save_model=True)"
   ]
  },
  {
   "cell_type": "code",
   "execution_count": null,
   "id": "advised-cause",
   "metadata": {},
   "outputs": [],
   "source": []
  },
  {
   "cell_type": "code",
   "execution_count": null,
   "id": "challenging-relations",
   "metadata": {},
   "outputs": [],
   "source": []
  }
 ],
 "metadata": {
  "kernelspec": {
   "display_name": "onto_env",
   "language": "python",
   "name": "onto_env"
  },
  "language_info": {
   "codemirror_mode": {
    "name": "ipython",
    "version": 3
   },
   "file_extension": ".py",
   "mimetype": "text/x-python",
   "name": "python",
   "nbconvert_exporter": "python",
   "pygments_lexer": "ipython3",
   "version": "3.10.14"
  }
 },
 "nbformat": 4,
 "nbformat_minor": 5
}
